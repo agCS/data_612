{
 "cells": [
  {
   "cell_type": "code",
   "execution_count": 1,
   "metadata": {},
   "outputs": [],
   "source": [
    "import pandas as pd\n",
    "import numpy as np\n",
    "\n",
    "from IPython.display import Image, HTML, Markdown\n",
    "from IPython.core.display import HTML \n",
    "import warnings\n",
    "warnings.filterwarnings('ignore')\n",
    "\n",
    "import ipywidgets as widgets\n",
    "\n",
    "import plotly.express as px\n",
    "import plotly.graph_objects as go\n",
    "from plotly.subplots import make_subplots\n",
    "# import matplotlib.pyplot as plt\n",
    "# %matplotlib inline\n",
    "\n",
    "from surprise import Reader, accuracy, Dataset\n",
    "from surprise import KNNBasic, KNNWithMeans, KNNWithZScore\n",
    "from surprise.model_selection import cross_validate, train_test_split, GridSearchCV"
   ]
  },
  {
   "cell_type": "code",
   "execution_count": 156,
   "metadata": {},
   "outputs": [],
   "source": [
    "import itables.interactive"
   ]
  },
  {
   "cell_type": "code",
   "execution_count": 126,
   "metadata": {},
   "outputs": [
    {
     "data": {
      "text/html": [
       "<script>\n",
       "code_show=true; \n",
       "function code_toggle() {\n",
       " if (code_show){\n",
       " $('div.input').hide();\n",
       " } else {\n",
       " $('div.input').show();\n",
       " }\n",
       " code_show = !code_show\n",
       "} \n",
       "$( document ).ready(code_toggle);\n",
       "</script>\n",
       "<form action=\"javascript:code_toggle()\"><input type=\"submit\" value=\"Click here to show/hide code\"></form>"
      ],
      "text/plain": [
       "<IPython.core.display.HTML object>"
      ]
     },
     "execution_count": 126,
     "metadata": {},
     "output_type": "execute_result"
    }
   ],
   "source": [
    "HTML('''<script>\n",
    "code_show=true; \n",
    "function code_toggle() {\n",
    " if (code_show){\n",
    " $('div.input').hide();\n",
    " } else {\n",
    " $('div.input').show();\n",
    " }\n",
    " code_show = !code_show\n",
    "} \n",
    "$( document ).ready(code_toggle);\n",
    "</script>\n",
    "<form action=\"javascript:code_toggle()\"><input type=\"submit\" value=\"Click here to show/hide code\"></form>''')"
   ]
  },
  {
   "cell_type": "code",
   "execution_count": 2,
   "metadata": {},
   "outputs": [
    {
     "data": {
      "text/html": [
       "<style>.container { width:90% !important; }</style>"
      ],
      "text/plain": [
       "<IPython.core.display.HTML object>"
      ]
     },
     "metadata": {},
     "output_type": "display_data"
    }
   ],
   "source": [
    "display(HTML(\"<style>.container { width:90% !important; }</style>\"))"
   ]
  },
  {
   "cell_type": "markdown",
   "metadata": {},
   "source": [
    "# Intro\n",
    "**Author** Albina Gallyavova  \n",
    "**Date** May 21, 2020  \n",
    "**Objective**  \n",
    "\n",
    "Build a KNN-based interactive recommender tool allowing users to find top-n similar items without creating profiles/sharing data  \n",
    "\n",
    "*Advantages*\n",
    "- suitable for new users and addressing 'cold start' issue\n",
    "- search inputs could be used to build profile for new users\n",
    "- could be further enhanced by including metadata allowing for more specific search\n",
    "\n",
    "*Disadvantages*\n",
    "- similar items solely depend on ratings as opposed to items characteristics (such as genre, author, etc.)\n",
    "\n",
    "**Data** Book-Crossings  \n",
    "**Tools**  Python, `surprise`  "
   ]
  },
  {
   "cell_type": "markdown",
   "metadata": {},
   "source": [
    "# Data\n",
    "The Book-Crossing dataset is a collection of user ratings of books. It comes with both explicit ratings (1-10 stars) and implicit ratings (user interacted with the book). It consists of 3 separate datasets: BX-Users, BX-Books, BX-Ratings"
   ]
  },
  {
   "cell_type": "code",
   "execution_count": 171,
   "metadata": {},
   "outputs": [],
   "source": [
    "books = pd.read_csv('BX-Books.csv',sep=';', error_bad_lines=False, warn_bad_lines=False, encoding='latin-1',low_memory=False)\n",
    "users = pd.read_csv('BX-Users.csv',sep=';', error_bad_lines=False, warn_bad_lines=False, encoding='latin-1')\n",
    "ratings = pd.read_csv('BX-Book-Ratings.csv',sep=';', error_bad_lines=False, warn_bad_lines=False, encoding='latin-1')\n",
    "\n",
    "# assign data type to reduce memory\n",
    "ratings['User-ID'] = ratings['User-ID'].astype('int32')\n",
    "ratings['ISBN'] = ratings['ISBN'].astype('category')\n",
    "ratings['Book-Rating'] = ratings['Book-Rating'].astype('int8')\n",
    "# ratings.columns = ['user','item','rating']"
   ]
  },
  {
   "cell_type": "markdown",
   "metadata": {},
   "source": [
    "### BX-Users  \n",
    "Contains the users. Note that user IDs (`User-ID`) have been anonymized and map to integers. Demographic data is provided (`Location`, `Age`) if available. Otherwise, these fields contain NULL-values."
   ]
  },
  {
   "cell_type": "code",
   "execution_count": 162,
   "metadata": {},
   "outputs": [
    {
     "name": "stdout",
     "output_type": "stream",
     "text": [
      "<class 'pandas.core.frame.DataFrame'>\n",
      "RangeIndex: 278858 entries, 0 to 278857\n",
      "Data columns (total 3 columns):\n",
      " #   Column    Non-Null Count   Dtype  \n",
      "---  ------    --------------   -----  \n",
      " 0   User-ID   278858 non-null  int64  \n",
      " 1   Location  278858 non-null  object \n",
      " 2   Age       168096 non-null  float64\n",
      "dtypes: float64(1), int64(1), object(1)\n",
      "memory usage: 6.4+ MB\n"
     ]
    }
   ],
   "source": [
    "users.info()"
   ]
  },
  {
   "cell_type": "code",
   "execution_count": 163,
   "metadata": {},
   "outputs": [
    {
     "data": {
      "text/html": [
       "<div><table id=\"c1fbfdf3-ae73-4389-a748-61a590ff8c3a\" class=\"display\"><thead>\n",
       "    <tr style=\"text-align: right;\">\n",
       "      \n",
       "      <th>User-ID</th>\n",
       "      <th>Location</th>\n",
       "      <th>Age</th>\n",
       "    </tr>\n",
       "  </thead></table>\n",
       "<script type=\"text/javascript\">\n",
       "require([\"datatables\"], function (datatables) {\n",
       "    $(document).ready(function () {        \n",
       "        var dt_args = {\"columnDefs\": [{\"width\": \"70px\", \"targets\": \"_all\"}], \"paging\": false, \"data\": [[1, \"nyc, new york, usa\", NaN], [2, \"stockton, california, usa\", 18.0], [3, \"moscow, yukon territory, russia\", NaN]]};\n",
       "        dt_args = eval_functions(dt_args);\n",
       "        table = $('#c1fbfdf3-ae73-4389-a748-61a590ff8c3a').DataTable(dt_args);\n",
       "    });\n",
       "})\n",
       "</script>\n",
       "</div>\n"
      ],
      "text/plain": [
       "   User-ID                         Location   Age\n",
       "0        1               nyc, new york, usa   NaN\n",
       "1        2        stockton, california, usa  18.0\n",
       "2        3  moscow, yukon territory, russia   NaN"
      ]
     },
     "execution_count": 163,
     "metadata": {},
     "output_type": "execute_result"
    }
   ],
   "source": [
    "users.head(3)"
   ]
  },
  {
   "cell_type": "markdown",
   "metadata": {},
   "source": [
    "Approximately 40% of `Age` information is missing. \n",
    "`Location` appears to include city, state and country. We will try to split information and see if we can examine books ratings by geographical location."
   ]
  },
  {
   "cell_type": "code",
   "execution_count": 164,
   "metadata": {},
   "outputs": [
    {
     "name": "stdout",
     "output_type": "stream",
     "text": [
      "There are 1508 users that don't have standard location format\n"
     ]
    }
   ],
   "source": [
    "users['Loc_split'] = users['Location'].str.split(',')\n",
    "users['len'] = users['Loc_split'].str.len()\n",
    "print(\"There are {} users that don't have standard location format\".format(len(users[users['len']>3])))"
   ]
  },
  {
   "cell_type": "markdown",
   "metadata": {},
   "source": [
    "It appears the location column is not standard and more cleaning would require to extract information. Examples below:"
   ]
  },
  {
   "cell_type": "code",
   "execution_count": 165,
   "metadata": {},
   "outputs": [
    {
     "data": {
      "text/html": [
       "<div><table id=\"c894288e-404b-4bee-ab10-6badfeea296d\" class=\"display\"><thead>\n",
       "    <tr style=\"text-align: right;\">\n",
       "      <th></th>\n",
       "      <th>User-ID</th>\n",
       "      <th>Location</th>\n",
       "      <th>Age</th>\n",
       "      <th>Loc_split</th>\n",
       "      <th>len</th>\n",
       "    </tr>\n",
       "  </thead></table>\n",
       "<script type=\"text/javascript\">\n",
       "require([\"datatables\"], function (datatables) {\n",
       "    $(document).ready(function () {        \n",
       "        var dt_args = {\"columnDefs\": [{\"width\": \"70px\", \"targets\": \"_all\"}], \"paging\": false, \"data\": [[435, 436, \"ivanhoe, melbourne, victoria, australia\", 53.0, \"['ivanhoe', ' melbourne', ' victoria', ' australia']\", 4], [814, 815, \"davis bay, sechelt, british columbia, canada\", 43.0, \"['davis bay', ' sechelt', ' british columbia', ' canada']\", 4], [840, 841, \"saint charles, mo, missouri, usa\", 24.0, \"['saint charles', ' mo', ' missouri', ' usa']\", 4]]};\n",
       "        dt_args = eval_functions(dt_args);\n",
       "        table = $('#c894288e-404b-4bee-ab10-6badfeea296d').DataTable(dt_args);\n",
       "    });\n",
       "})\n",
       "</script>\n",
       "</div>\n"
      ],
      "text/plain": [
       "     User-ID                                      Location   Age  \\\n",
       "435      436       ivanhoe, melbourne, victoria, australia  53.0   \n",
       "814      815  davis bay, sechelt, british columbia, canada  43.0   \n",
       "840      841              saint charles, mo, missouri, usa  24.0   \n",
       "\n",
       "                                             Loc_split  len  \n",
       "435       [ivanhoe,  melbourne,  victoria,  australia]    4  \n",
       "814  [davis bay,  sechelt,  british columbia,  canada]    4  \n",
       "840              [saint charles,  mo,  missouri,  usa]    4  "
      ]
     },
     "execution_count": 165,
     "metadata": {},
     "output_type": "execute_result"
    }
   ],
   "source": [
    "users[users['len']>3].head(3)"
   ]
  },
  {
   "cell_type": "markdown",
   "metadata": {},
   "source": [
    "Despite non-standard format, the last item in location seems to include country but a quick look indicates that here is no standard naming convention, i.e., same country spelled in different ways or languages. It also appears to allow free text, and some interesting locations specified by users include ''n/a - on the road', 'universe','fredonia - land of the brave and free', 'the world tomorrow', and ''doodedoo'."
   ]
  },
  {
   "cell_type": "code",
   "execution_count": 166,
   "metadata": {},
   "outputs": [
    {
     "data": {
      "text/plain": [
       "array(['usa', 'russia', 'portugal', 'united kingdom', 'canada', 'spain',\n",
       "       'australia', 'brazil', '', 'germany', 'mexico', 'china', 'italy',\n",
       "       'distrito federal', 'france', 'netherlands', 'iraq', 'finland',\n",
       "       'new zealand', 'india', 'ghana', 'switzerland', 'slovenia', 'iran',\n",
       "       'peru', 'bosnia and herzegovina', 'vietnam', 'sri lanka',\n",
       "       'pakistan', 'denmark', 'belgium', 'malaysia', 'u.a.e', 'turkey',\n",
       "       'philippines', 'greece', 'colombia', 'norway', 'kuwait', 'chile',\n",
       "       'quit', 'lj', 'taiwan', 'denmark\"', 'españa', 'sweden',\n",
       "       'argentina', 'nigeria', 'london', 'bulgaria', 'austria', 'romania',\n",
       "       'singapore', 'albania', 'egypt', 'tunisia', 'uzbekistan', 'qatar',\n",
       "       'syria', 'saudi arabia', 'indonesia', 'sudan', 'somewherein space',\n",
       "       'poland', 'thailand', 'ireland', 'malaysia\"', 'venezuela',\n",
       "       'paraguay', 'mozambique', 'morocco', 'afghanistan', 'estonia',\n",
       "       'clackamas', 'spain\"', '\"', 'lesotho', 'yugoslavia', 'slovakia',\n",
       "       'costa rica', 'basque country', 'british virgin islands',\n",
       "       'ethiopia', 'croatia', 'united kingdom\"', 'portugal\"', 'israel',\n",
       "       'japan', 'israel\"', 'iceland', 'the', 'south africa', 'iran\"',\n",
       "       'cuba', 'antigua and barbuda', 'calabria', 'alderney',\n",
       "       'puerto rico', 'hong kong', 'nigeria\"', 'latvia', 'jersey',\n",
       "       'germany\"', 'luxembourg', 'belarus', 'cape verde\"', 'lithuania',\n",
       "       'guyana', 'scotland', 'n/a', 'jordan', 'la argentina', 'angola',\n",
       "       'algeria', 'andorra', 'kyrgyzstan', 'panama', 'csa', 'ecuador',\n",
       "       'phils', 'kazakhstan', 'dominican republic', 'turkey\"', 'brunei',\n",
       "       'bangladesh', 'monterrey', 'bahrain', 'united arab emirates',\n",
       "       'urugua', 'uruguay', 'l`italia', 'finland\"', 'honduras', 'georgia',\n",
       "       'dominica', 'malta', 'india\"', 'faroe islands', 'east africa',\n",
       "       'france\"', 'sierra leone', 'guatemala', 'mali', 'czech republic',\n",
       "       'space', 'romania\"', 'south korea', 'rwanda',\n",
       "       'trinidad and tobago', 'norway\"', 'yemen', 'cyprus',\n",
       "       'the philippines', 'öð¹ú', 'la france', 'eritrea', 'bahamas',\n",
       "       'cameroon', 'nicaragua', 'zambia', 'bolivia', 'maroc', 'isreal',\n",
       "       'belize', 'fernando de la mora', 'namibia', 'macedonia',\n",
       "       'argentina\"', 'botswana', 'queenspark', 'monaco', 'samoa',\n",
       "       'brasil', '19104', 'guernsey', 'euskal herria', 'bermuda',\n",
       "       'barbados', 'trinidad', 'england', 'armenia', 'hungary',\n",
       "       'deutschland', 'netherlands\"', 'austria\"', 'cayman islands',\n",
       "       'ukraine', 'sweden\"', 'new zealand\"', 'minnehaha', 'azerbaijan',\n",
       "       'galiza', 'de', 'switzerland\"', 'suriname', 'doodedoo', 'jamaica',\n",
       "       'caribbean sea', '&#32654;&#22269;', 'u.s. virgin islands',\n",
       "       'u.s. of a.', 'afganstand holla !!', 'catalunya', 'kosovo',\n",
       "       'serbia & montenegro', 'somalia', 'moldova', 'pakistan.',\n",
       "       'bangladesh\"', '-------', 'trinidad & tobago', 'tanzania', 'burma',\n",
       "       'uk', 'ghana\"', 'turkei', 'ksa', 'tajikistan', 'nepal',\n",
       "       'sri lanka\\\\\"n/a\\\\\"\"', 'valtesse', 'lebanon', 'cote d`ivoire',\n",
       "       'maldives', 'catalunya(catalonia)', 'mã?â©xico', 'nederlands',\n",
       "       'tdzimi', 'peru\"', 'hong kong\"', 'oman',\n",
       "       'saint vincent and the grenadines\"', 'lleida', 'antarctica',\n",
       "       'itlay', 'u.s.a.', 'palau', 'belgique',\n",
       "       'st. vincent and the grenadines', 'deutsches reich', 'catalonia',\n",
       "       'micronesia', 'kenya', 'collin', 'zhengjiang', 'grenada', 'bhutan',\n",
       "       'baxter', 'guinea-bissau', 'cote d`ivoire\"', 'evil empire',\n",
       "       'wales', 'mongolia', 'hennipen', 'equatorial geuinea', 'italy\"',\n",
       "       'italia', 'rice', 'good old usa !', 'philippines\"', 'polska',\n",
       "       'missouri', 'goteborg', 'united states', 'senegal', 'bbbzzzzz',\n",
       "       'saint lucia', 'zimbabwe', 'cass', 'baltimore', 'hampden',\n",
       "       'thailand\"', 'ust', 'ama lurra', 'polk', 'hamilton', 'fiji',\n",
       "       'bernalillo', 'effingham', 'lake', 'catalunya spain', '*',\n",
       "       'windham', 'belgium\"', 'ireland\"', 'papua new guinea',\n",
       "       'costa rica\"', 'laos', 'slovakia\"', 'united stated',\n",
       "       'the great white north', 'brazil\"',\n",
       "       'saint vincent and the grenadines', 'burkina faso', 'philippine',\n",
       "       'auckland', '?ú?{', 'c', 'gabon', 'pasco',\n",
       "       'united states of america', 'ferrara', 'morgan', 'milano',\n",
       "       'europe', 'slo', 'lkjlj', 'north korea', 'marrion',\n",
       "       'commonwealth of northern mariana islands', 'mauritius', 'benin',\n",
       "       'colombia\"', 'cnina', 'holy see', 'haiti', 'cn', 'holland',\n",
       "       'jackson', 'cherokee', 'espaã?â±a', 'lazio', 'dekalb',\n",
       "       'la belgique', 'maricopa', 'n/a - on the road', 'ua', 'chile\"',\n",
       "       'algérie', 'san marino', 'nrw', 'nyhamnsläge', 'egypt\"', 'aruba',\n",
       "       'richmond country', 'srilanka', 'el salvador', 'slovenia\"',\n",
       "       'republic of korea', 'luxembourg\"', 'côte d', 'saint loius',\n",
       "       'croatia\"', 'greece\"', 'framingham', 'monroe', 'hornyonic',\n",
       "       'ouranos', 'san bernardino', 'nyc', 'united kindgonm', 'ee.uu',\n",
       "       'here and there', 'malawi', 'channel islands', 'espaã±a',\n",
       "       'solomon islands', 'washtenaw', 'libya', 'universe', 'az',\n",
       "       'suisse', 'uganda', 'la chine éternelle !', 'iceland\"', 'macau',\n",
       "       'frome', 'brunei darussalam', 'netherlands antilles', 'niger',\n",
       "       'cape town', 'st. helena', 'sultanate of oman', 'aroostook',\n",
       "       'fredonia - land of the brave and free', 'china\"', 'chad',\n",
       "       'la chine éternelle!', 'fifi', 'djibouti', 'america',\n",
       "       'prince william', 'bademn würtemberg', 'marshall islands',\n",
       "       'la suisse', 'gb', 'worcester', 'wood', 'rmi', 'hongkong',\n",
       "       'heaven', 'serbia', 'méxico', 'poland\"', 'cape verde', 'congo',\n",
       "       'osceola', 'van wert', 'deutschland\"', '87510', 'ä¸\\xadå?½',\n",
       "       'lornsenland', 'hungary\"', 'saudia arabia', 'dublin', 'pr', 'none',\n",
       "       'p.r.china', 'liberia', 'usa & canada', 'carter', 'myanmar',\n",
       "       'rapides', 'american samoa', 'essex', 'sao tome and principe\"',\n",
       "       '-', 'vietnam\"', 'aaa', 'can', 'sicilia', 'sri lanka\"', 'english',\n",
       "       'singapore/united kingdom', 'nowhere', 'scotland\"', 'alachua',\n",
       "       'macedonia\"', 'china öð¹ú', 'czech republic\"', 'lombardia',\n",
       "       'cambodia', 'vanuatu', 'turkmenistan', 'mérida',\n",
       "       'antigua & barbuda', 'hillsborough', 'my', 'greece (=hellas)',\n",
       "       'isle of man', 'san franicsco', 'u.s>', 'u.s.a!', '02458',\n",
       "       '5057chadwick ct.', 'the netherlands', 'south korea\"',\n",
       "       'far away...', 'us', 'travelling', 'togo', 'belgi', 'pinallas',\n",
       "       'sudan\"', 'guatemala\"', 'id', 'k1c7b1', 'orense', 'rutherford',\n",
       "       'pa', 'bell', 'country', 'australia\"', 'serbia and montenegro',\n",
       "       'mexico\"', '.', 'camden', 'dfg', 'chian', 'strongbadia', 'bfe',\n",
       "       'liaoning', 'united statea', 'china people`s republic', 'italien',\n",
       "       'clinton', 'ventura county', 'berguedà', 'basilicata', 'diy',\n",
       "       'ysa', 'lawrenceville', 'input error', 'bladen', 'sardegna',\n",
       "       'thailoand', 'rosario', 'the world tomorrow', 'perãº', 'u.s.a>',\n",
       "       'in your heart', 'aotearoa', 'burkinafasu', 'adsgfdr', 'henry',\n",
       "       'kz', 'singapore\"', 'good old u.s.a.', 'united stated of america',\n",
       "       'unit', 'rosello', 'granville', 'england uk',\n",
       "       'trinidad and tobago\"', 'petrolwar nation', 'guam', 'new london',\n",
       "       'harvatija', '23232', 'copenhagen', 'burma\"', 'canda', 'prc',\n",
       "       'phippines', 'jamaica\"', 'sardinia', 'u', 'oakland', 'lecce',\n",
       "       'u k', 'moçambique', 'andorra\"', 'ventura', 'newzealand', 'europa',\n",
       "       'shelby', 'p.r. china', 'malaysian', 'usa\"', 'fred',\n",
       "       'usa (currently living in england)', 'tonga', 'roma', 'indiai',\n",
       "       'cook', 'mordor', 'l`algérie', 'z', 'u.', 'fontana', 'kiribati',\n",
       "       'australii', 'u.a.e\"', 'libya\"', 'uganda\"', 'ukrain',\n",
       "       'onondaga nation', '_ brasil', 'mauritius\"', 'united kindgdom',\n",
       "       'hungary and usa', 'queensland', 'cananda', 'pakistan\"',\n",
       "       'austbritania', 'united state', 'solano', 'unite states', 'vorce',\n",
       "       'c.a.', 'pender', 'la chine eternelle!', 'vicenza', 'p.r.c',\n",
       "       'xxxxxx', 'espanha / galiza', 'maracopa', 'palestine', 'il canada',\n",
       "       'republic of panama', 'phila', 'guinea', 'rsa', 'neverland',\n",
       "       'west yorkshire', 'smith', 'pueblo', 'northern ireland', 'pippo',\n",
       "       'türkiye', 'california', 'indonesia\"', 'uyo', 'spotsylvania',\n",
       "       'der', 'swaziland', 'livingston', 's.corea', 'h.u.g.', 'ussurfing',\n",
       "       'phillipines', 'bosnia', 'exactly where i am', 'cadd0', 'euskadi',\n",
       "       'canada eh', 'l', 'le canada', 'korea', 'nh', 'uae', 'yanhill',\n",
       "       'wonderful usa', 'burlington', 'uusa', 'madagascar',\n",
       "       'rep san marino', 'swazilandia', 'u.k.', 'johnson', 'maine',\n",
       "       '30064', 'buncombe', 'bucks', 'santa barbara', 'trinidad/tobago.',\n",
       "       'houston', 'slovak republik', 'fortaleza', 'in', 'pistlavakia',\n",
       "       'bavaria', 's.africa', 'sao tome and principe', 'europe.',\n",
       "       'saint kitts and nevis', 'palm beach', 'philippinies',\n",
       "       'north carolina', 'los estados unidos de norte america',\n",
       "       'russian federation', 'courtenay', 'mauritania', 'lee', 'comoros',\n",
       "       'hidalgo', 'morocco\"', 'xinyu', 'lithuania\"', 'orange co', 'texas',\n",
       "       'baden-württemberg', '\\\\n/a\\\\\"\"', 'unknown', 'a', 'san mateo',\n",
       "       'davidson', 'saint luica', '85021', 'tobago', 'vatican city',\n",
       "       'ohio', 'venezuela\"', 'whatcom', 'nz', 'madrid', 'toscana',\n",
       "       'st. clair', 'butler', 'allen', 'autralia', 'fairyland',\n",
       "       'we`re global!', 'thing', 'ahrensburg', 'kern', 'tanzania\"',\n",
       "       'disgruntled states of america', 'cape may', 'the gambia',\n",
       "       'españa\"', 'united sates', '\\\\\"n/a\\\\\"\"', 'tyrtyrt', 'mozambique\"',\n",
       "       'liushi', 'bih', 'w. malaysia', 'st.thomasi', 'fort bend',\n",
       "       'geermany', 'fulton', 'le madagascar', 'yakima', 'no more',\n",
       "       'dauphin', 'everywhere and anywhere', 'p r china', 'citrus.',\n",
       "       '01776', 'home of the van!!', 'people`s republic of china', 'lane',\n",
       "       'x', 'chinaöð¹ú', 'galiza neghra', 'united staes', 'asturies',\n",
       "       'nl', '&#20013;&#22269;', 'germay', 'yunling', 'rep. san marino',\n",
       "       'r.o.c.', 'victoria', 'bkk', 'la svizzera', 'hernando',\n",
       "       'united kingdom.'], dtype=object)"
      ]
     },
     "execution_count": 166,
     "metadata": {},
     "output_type": "execute_result"
    }
   ],
   "source": [
    "users['country'] = users['Loc_split'].str[-1].str.strip()\n",
    "users['country'].unique()"
   ]
  },
  {
   "cell_type": "markdown",
   "metadata": {},
   "source": [
    "### BX-Books\n",
    "Books are identified by their respective ISBN. Invalid ISBNs have already been removed from the dataset. Moreover, some content-based information is given (`Book-Title`, `Book-Author`, `Year-Of-Publication`, `Publisher`), obtained from Amazon Web Services. Note that in case of several authors, only the first is provided. URLs linking to cover images are also given, appearing in three different flavours (`Image-URL-S`, `Image-URL-M`, `Image-URL-L`), i.e., small, medium, large. These URLs point to the Amazon web site."
   ]
  },
  {
   "cell_type": "code",
   "execution_count": 167,
   "metadata": {},
   "outputs": [
    {
     "name": "stdout",
     "output_type": "stream",
     "text": [
      "<class 'pandas.core.frame.DataFrame'>\n",
      "RangeIndex: 271360 entries, 0 to 271359\n",
      "Data columns (total 8 columns):\n",
      " #   Column               Non-Null Count   Dtype \n",
      "---  ------               --------------   ----- \n",
      " 0   ISBN                 271360 non-null  object\n",
      " 1   Book-Title           271360 non-null  object\n",
      " 2   Book-Author          271359 non-null  object\n",
      " 3   Year-Of-Publication  271360 non-null  object\n",
      " 4   Publisher            271358 non-null  object\n",
      " 5   Image-URL-S          271360 non-null  object\n",
      " 6   Image-URL-M          271360 non-null  object\n",
      " 7   Image-URL-L          271357 non-null  object\n",
      "dtypes: object(8)\n",
      "memory usage: 16.6+ MB\n"
     ]
    }
   ],
   "source": [
    "books.info()"
   ]
  },
  {
   "cell_type": "markdown",
   "metadata": {},
   "source": [
    "We will keep column with medium picture of a book for displaying in recommender, but get rid of the other two. The resulting examples below:"
   ]
  },
  {
   "cell_type": "code",
   "execution_count": 172,
   "metadata": {},
   "outputs": [
    {
     "data": {
      "text/html": [
       "<div><table id=\"75595d61-9795-4bfe-8b2c-357077571d33\" class=\"display\"><thead>\n",
       "    <tr style=\"text-align: right;\">\n",
       "      \n",
       "      <th>ISBN</th>\n",
       "      <th>Book-Title</th>\n",
       "      <th>Book-Author</th>\n",
       "      <th>Year-Of-Publication</th>\n",
       "      <th>Publisher</th>\n",
       "      <th>Image-URL-M</th>\n",
       "    </tr>\n",
       "  </thead></table>\n",
       "<script type=\"text/javascript\">\n",
       "require([\"datatables\"], function (datatables) {\n",
       "    $(document).ready(function () {        \n",
       "        var dt_args = {\"columnDefs\": [{\"width\": \"70px\", \"targets\": \"_all\"}], \"paging\": false, \"data\": [[\"0195153448\", \"Classical Mythology\", \"Mark P. O. Morford\", \"2002\", \"Oxford University Press\", \"http://images.amazon.com/images/P/0195153448.01.MZZZZZZZ.jpg\"], [\"0002005018\", \"Clara Callan\", \"Richard Bruce Wright\", \"2001\", \"HarperFlamingo Canada\", \"http://images.amazon.com/images/P/0002005018.01.MZZZZZZZ.jpg\"], [\"0060973129\", \"Decision in Normandy\", \"Carlo D'Este\", \"1991\", \"HarperPerennial\", \"http://images.amazon.com/images/P/0060973129.01.MZZZZZZZ.jpg\"]]};\n",
       "        dt_args = eval_functions(dt_args);\n",
       "        table = $('#75595d61-9795-4bfe-8b2c-357077571d33').DataTable(dt_args);\n",
       "    });\n",
       "})\n",
       "</script>\n",
       "</div>\n"
      ],
      "text/plain": [
       "         ISBN            Book-Title           Book-Author Year-Of-Publication  \\\n",
       "0  0195153448   Classical Mythology    Mark P. O. Morford                2002   \n",
       "1  0002005018          Clara Callan  Richard Bruce Wright                2001   \n",
       "2  0060973129  Decision in Normandy          Carlo D'Este                1991   \n",
       "\n",
       "                 Publisher                                        Image-URL-M  \n",
       "0  Oxford University Press  http://images.amazon.com/images/P/0195153448.0...  \n",
       "1    HarperFlamingo Canada  http://images.amazon.com/images/P/0002005018.0...  \n",
       "2          HarperPerennial  http://images.amazon.com/images/P/0060973129.0...  "
      ]
     },
     "execution_count": 172,
     "metadata": {},
     "output_type": "execute_result"
    }
   ],
   "source": [
    "# drop columns with S and L image links\n",
    "books.drop(['Image-URL-S', 'Image-URL-L'],axis=1,inplace=True)\n",
    "# books['ISBN'] = books['ISBN'].astype('category')\n",
    "books.head(3)"
   ]
  },
  {
   "cell_type": "markdown",
   "metadata": {},
   "source": [
    "At a first glance, we have 271360 unique books in the dataset but a closer examination reveals that there are numerous books with the same title and by the same author that in some cases have as many as 21 different ISBN numbers. For example:"
   ]
  },
  {
   "cell_type": "code",
   "execution_count": 173,
   "metadata": {},
   "outputs": [
    {
     "data": {
      "text/html": [
       "<div><table id=\"cb7382a7-6ea8-4746-8832-e3a36aabae07\" class=\"display\"><thead>\n",
       "    <tr style=\"text-align: right;\">\n",
       "      <th></th>\n",
       "      <th>Book-Title</th>\n",
       "      <th>Book-Author</th>\n",
       "      <th>ISBN</th>\n",
       "    </tr>\n",
       "  </thead></table>\n",
       "<script type=\"text/javascript\">\n",
       "require([\"datatables\"], function (datatables) {\n",
       "    $(document).ready(function () {        \n",
       "        var dt_args = {\"columnDefs\": [{\"width\": \"70px\", \"targets\": \"_all\"}], \"paging\": false, \"data\": [[113851, \"Little Women\", \"Louisa May Alcott\", 21], [248701, \"Wuthering Heights\", \"Emily Bronte\", 20], [9859, \"Adventures of Huckleberry Finn\", \"Mark Twain\", 20], [149442, \"Pride and Prejudice\", \"Jane Austen\", 18], [99587, \"Jane Eyre\", \"Charlotte Bronte\", 16]]};\n",
       "        dt_args = eval_functions(dt_args);\n",
       "        table = $('#cb7382a7-6ea8-4746-8832-e3a36aabae07').DataTable(dt_args);\n",
       "    });\n",
       "})\n",
       "</script>\n",
       "</div>\n"
      ],
      "text/plain": [
       "                            Book-Title        Book-Author  ISBN\n",
       "113851                    Little Women  Louisa May Alcott    21\n",
       "248701               Wuthering Heights       Emily Bronte    20\n",
       "9859    Adventures of Huckleberry Finn         Mark Twain    20\n",
       "149442             Pride and Prejudice        Jane Austen    18\n",
       "99587                        Jane Eyre   Charlotte Bronte    16"
      ]
     },
     "execution_count": 173,
     "metadata": {},
     "output_type": "execute_result"
    }
   ],
   "source": [
    "books.groupby(['Book-Title','Book-Author'])['ISBN'].nunique().reset_index().sort_values('ISBN',ascending=False).head(5)"
   ]
  },
  {
   "cell_type": "markdown",
   "metadata": {},
   "source": [
    "For consistency, we will reassign a single ISBN to the books with multiple ISBN, and replace those ISBN in ratings table as well in later steps."
   ]
  },
  {
   "cell_type": "code",
   "execution_count": 174,
   "metadata": {},
   "outputs": [
    {
     "name": "stdout",
     "output_type": "stream",
     "text": [
      "There are 15746 books that have multiple ISBNs\n"
     ]
    },
    {
     "data": {
      "text/html": [
       "<div><table id=\"c8abd7c7-496f-46b5-bc7b-d3ac2bf0e142\" class=\"display\"><thead>\n",
       "    <tr style=\"text-align: right;\">\n",
       "      \n",
       "      <th>Book-Title</th>\n",
       "      <th>Book-Author</th>\n",
       "      <th>ISBN</th>\n",
       "    </tr>\n",
       "  </thead></table>\n",
       "<script type=\"text/javascript\">\n",
       "require([\"datatables\"], function (datatables) {\n",
       "    $(document).ready(function () {        \n",
       "        var dt_args = {\"columnDefs\": [{\"width\": \"70px\", \"targets\": \"_all\"}], \"paging\": false, \"data\": [[\"!%@ (A Nutshell handbook)\", \"Donnalyn Frey\", \"['1565920465' '1565920317']\"], [\"'A Hell of a Place to Lose a Cow': An American Hitchhiking Odyssey\", \"Tim Brookes\", \"['0792276833' '0792277295']\"], [\"'Salem's Lot\", \"Stephen King\", \"['0451168089' '067103975X' '0385007515']\"], [\"...And Now Miguel\", \"Joseph Krumgold\", \"['0690091184' '006440143X']\"], [\"10 Lb. Penalty\", \"Dick Francis\", \"['0399143025' '0515123471']\"]]};\n",
       "        dt_args = eval_functions(dt_args);\n",
       "        table = $('#c8abd7c7-496f-46b5-bc7b-d3ac2bf0e142').DataTable(dt_args);\n",
       "    });\n",
       "})\n",
       "</script>\n",
       "</div>\n"
      ],
      "text/plain": [
       "                                          Book-Title      Book-Author  \\\n",
       "0                          !%@ (A Nutshell handbook)    Donnalyn Frey   \n",
       "1  'A Hell of a Place to Lose a Cow': An American...      Tim Brookes   \n",
       "2                                       'Salem's Lot     Stephen King   \n",
       "3                                  ...And Now Miguel  Joseph Krumgold   \n",
       "4                                     10 Lb. Penalty     Dick Francis   \n",
       "\n",
       "                                   ISBN  \n",
       "0              [1565920465, 1565920317]  \n",
       "1              [0792276833, 0792277295]  \n",
       "2  [0451168089, 067103975X, 0385007515]  \n",
       "3              [0690091184, 006440143X]  \n",
       "4              [0399143025, 0515123471]  "
      ]
     },
     "metadata": {},
     "output_type": "display_data"
    }
   ],
   "source": [
    "# group books by title and author to count unique ISBNs, filter teh ones that have more than one ISBN\n",
    "dupl = books.groupby(['Book-Title','Book-Author'])['ISBN'].nunique().reset_index().sort_values('ISBN',ascending=False)\n",
    "dupl = dupl[dupl['ISBN']>1]\n",
    "print('There are {} books that have multiple ISBNs'.format(len(dupl)))\n",
    "\n",
    "# assign a single ISBN to books with multiple ISBNs\n",
    "dupl_isbn = books[books['Book-Title'].isin(dupl['Book-Title'])].groupby(['Book-Title','Book-Author'])['ISBN'].unique().reset_index()\n",
    "display(dupl_isbn.head())"
   ]
  },
  {
   "cell_type": "code",
   "execution_count": 175,
   "metadata": {},
   "outputs": [],
   "source": [
    "dupl_isbn = books[books['Book-Title'].isin(dupl['Book-Title'])].groupby(['Book-Title','Book-Author']).agg({'ISBN':'unique',\n",
    "                                                                                       'Image-URL-M':'unique'}).reset_index()\n",
    "\n",
    "one_isbn = pd.DataFrame(dupl_isbn['ISBN'].values.tolist()).add_prefix('isbn_')['isbn_0']\n",
    "one_link = pd.DataFrame(dupl_isbn['Image-URL-M'].values.tolist()).add_prefix('link_')['link_0']\n",
    "\n",
    "dupl_isbn = pd.concat([dupl_isbn,one_isbn],axis=1,sort=False)\n",
    "dupl_isbn = pd.concat([dupl_isbn,one_link],axis=1,sort=False)\n",
    "\n",
    "books = books.merge(dupl_isbn,how='left',left_on=['Book-Title','Book-Author'],right_on=['Book-Title','Book-Author'])\n",
    "books['one_isbn'] = np.where(books['isbn_0'].notnull(),books['isbn_0'],books['ISBN_x'])\n",
    "books['one_link'] = np.where(books['link_0'].notnull(),books['link_0'],books['Image-URL-M_x'])"
   ]
  },
  {
   "cell_type": "markdown",
   "metadata": {},
   "source": [
    "Resulting books table is depicted below:"
   ]
  },
  {
   "cell_type": "code",
   "execution_count": 176,
   "metadata": {},
   "outputs": [
    {
     "data": {
      "text/html": [
       "<div><table id=\"dab76c3c-6b11-455e-9443-85361fddb651\" class=\"display\"><thead>\n",
       "    <tr style=\"text-align: right;\">\n",
       "      <th></th>\n",
       "      <th>ISBN_x</th>\n",
       "      <th>Book-Title</th>\n",
       "      <th>Book-Author</th>\n",
       "      <th>Year-Of-Publication</th>\n",
       "      <th>Publisher</th>\n",
       "      <th>Image-URL-M_x</th>\n",
       "      <th>ISBN_y</th>\n",
       "      <th>Image-URL-M_y</th>\n",
       "      <th>isbn_0</th>\n",
       "      <th>link_0</th>\n",
       "      <th>one_isbn</th>\n",
       "      <th>one_link</th>\n",
       "    </tr>\n",
       "  </thead></table>\n",
       "<script type=\"text/javascript\">\n",
       "require([\"datatables\"], function (datatables) {\n",
       "    $(document).ready(function () {        \n",
       "        var dt_args = {\"columnDefs\": [{\"width\": \"70px\", \"targets\": \"_all\"}], \"paging\": false, \"data\": [[0, \"0195153448\", \"Classical Mythology\", \"Mark P. O. Morford\", \"2002\", \"Oxford University Press\", \"http://images.amazon.com/images/P/0195153448.01.MZZZZZZZ.jpg\", \"['0195153448' '0801319536']\", \"['http://images.amazon.com/images/P/0195153448.01.MZZZZZZZ.jpg'\\n 'http://images.amazon.com/images/P/0801319536.01.MZZZZZZZ.jpg']\", \"0195153448\", \"http://images.amazon.com/images/P/0195153448.01.MZZZZZZZ.jpg\", \"0195153448\", \"http://images.amazon.com/images/P/0195153448.01.MZZZZZZZ.jpg\"], [1, \"0002005018\", \"Clara Callan\", \"Richard Bruce Wright\", \"2001\", \"HarperFlamingo Canada\", \"http://images.amazon.com/images/P/0002005018.01.MZZZZZZZ.jpg\", \"nan\", \"nan\", \"nan\", \"nan\", \"0002005018\", \"http://images.amazon.com/images/P/0002005018.01.MZZZZZZZ.jpg\"], [2, \"0060973129\", \"Decision in Normandy\", \"Carlo D'Este\", \"1991\", \"HarperPerennial\", \"http://images.amazon.com/images/P/0060973129.01.MZZZZZZZ.jpg\", \"nan\", \"nan\", \"nan\", \"nan\", \"0060973129\", \"http://images.amazon.com/images/P/0060973129.01.MZZZZZZZ.jpg\"]]};\n",
       "        dt_args = eval_functions(dt_args);\n",
       "        table = $('#dab76c3c-6b11-455e-9443-85361fddb651').DataTable(dt_args);\n",
       "    });\n",
       "})\n",
       "</script>\n",
       "</div>\n"
      ],
      "text/plain": [
       "       ISBN_x            Book-Title           Book-Author Year-Of-Publication  \\\n",
       "0  0195153448   Classical Mythology    Mark P. O. Morford                2002   \n",
       "1  0002005018          Clara Callan  Richard Bruce Wright                2001   \n",
       "2  0060973129  Decision in Normandy          Carlo D'Este                1991   \n",
       "\n",
       "                 Publisher                                      Image-URL-M_x  \\\n",
       "0  Oxford University Press  http://images.amazon.com/images/P/0195153448.0...   \n",
       "1    HarperFlamingo Canada  http://images.amazon.com/images/P/0002005018.0...   \n",
       "2          HarperPerennial  http://images.amazon.com/images/P/0060973129.0...   \n",
       "\n",
       "                     ISBN_y  \\\n",
       "0  [0195153448, 0801319536]   \n",
       "1                       NaN   \n",
       "2                       NaN   \n",
       "\n",
       "                                       Image-URL-M_y      isbn_0  \\\n",
       "0  [http://images.amazon.com/images/P/0195153448....  0195153448   \n",
       "1                                                NaN         NaN   \n",
       "2                                                NaN         NaN   \n",
       "\n",
       "                                              link_0    one_isbn  \\\n",
       "0  http://images.amazon.com/images/P/0195153448.0...  0195153448   \n",
       "1                                                NaN  0002005018   \n",
       "2                                                NaN  0060973129   \n",
       "\n",
       "                                            one_link  \n",
       "0  http://images.amazon.com/images/P/0195153448.0...  \n",
       "1  http://images.amazon.com/images/P/0002005018.0...  \n",
       "2  http://images.amazon.com/images/P/0060973129.0...  "
      ]
     },
     "execution_count": 176,
     "metadata": {},
     "output_type": "execute_result"
    }
   ],
   "source": [
    "books.head(3)"
   ]
  },
  {
   "cell_type": "markdown",
   "metadata": {},
   "source": [
    "### BX-Ratings\n",
    "Contains the book rating information. Ratings (`Book-Rating`) are either explicit, expressed on a scale from 1-10 (higher values denoting higher appreciation), or implicit, expressed by 0."
   ]
  },
  {
   "cell_type": "code",
   "execution_count": 140,
   "metadata": {},
   "outputs": [
    {
     "name": "stdout",
     "output_type": "stream",
     "text": [
      "<class 'pandas.core.frame.DataFrame'>\n",
      "RangeIndex: 1149780 entries, 0 to 1149779\n",
      "Data columns (total 3 columns):\n",
      " #   Column       Non-Null Count    Dtype   \n",
      "---  ------       --------------    -----   \n",
      " 0   User-ID      1149780 non-null  int32   \n",
      " 1   ISBN         1149780 non-null  category\n",
      " 2   Book-Rating  1149780 non-null  int8    \n",
      "dtypes: category(1), int32(1), int8(1)\n",
      "memory usage: 22.5 MB\n"
     ]
    }
   ],
   "source": [
    "ratings.info()"
   ]
  },
  {
   "cell_type": "markdown",
   "metadata": {},
   "source": [
    "The initial ratings table includes over 1M ratings. We only include ratings for the books that are present in books table, which reduces rating by ~120k."
   ]
  },
  {
   "cell_type": "code",
   "execution_count": 177,
   "metadata": {},
   "outputs": [
    {
     "name": "stdout",
     "output_type": "stream",
     "text": [
      "Ratings after removing books not present in BX-Books: 1031136\n"
     ]
    }
   ],
   "source": [
    "ratings = ratings.merge(books[['ISBN_x','one_isbn']], how='left',left_on='ISBN',right_on='ISBN_x').dropna()\n",
    "ratings_new = ratings[['User-ID','one_isbn','Book-Rating']]\n",
    "ratings_new.columns = ['user','item','rating']\n",
    "ratings_new.head()\n",
    "print(\"Ratings after removing books not present in BX-Books: {}\".format(len(ratings_new)))"
   ]
  },
  {
   "cell_type": "markdown",
   "metadata": {},
   "source": [
    "As mentioned in data description, the ratings include implicit ratings expressed by 0, which represent a bigger portion of the dataset. "
   ]
  },
  {
   "cell_type": "code",
   "execution_count": 178,
   "metadata": {},
   "outputs": [
    {
     "data": {
      "application/vnd.plotly.v1+json": {
       "config": {
        "plotlyServerURL": "https://plot.ly"
       },
       "data": [
        {
         "alignmentgroup": "True",
         "hovertemplate": "rating=%{x}<br>item=%{y}<extra></extra>",
         "legendgroup": "",
         "marker": {
          "color": "#636efa"
         },
         "name": "",
         "offsetgroup": "",
         "orientation": "v",
         "showlegend": false,
         "textposition": "auto",
         "type": "bar",
         "x": [
          0,
          1,
          2,
          3,
          4,
          5,
          6,
          7,
          8,
          9,
          10
         ],
         "xaxis": "x",
         "y": [
          647294,
          1481,
          2375,
          5118,
          7617,
          45355,
          31687,
          66402,
          91804,
          60778,
          71225
         ],
         "yaxis": "y"
        }
       ],
       "layout": {
        "barmode": "relative",
        "height": 300,
        "legend": {
         "tracegroupgap": 0
        },
        "margin": {
         "t": 60
        },
        "template": {
         "data": {
          "bar": [
           {
            "error_x": {
             "color": "#f2f5fa"
            },
            "error_y": {
             "color": "#f2f5fa"
            },
            "marker": {
             "line": {
              "color": "rgb(17,17,17)",
              "width": 0.5
             }
            },
            "type": "bar"
           }
          ],
          "barpolar": [
           {
            "marker": {
             "line": {
              "color": "rgb(17,17,17)",
              "width": 0.5
             }
            },
            "type": "barpolar"
           }
          ],
          "carpet": [
           {
            "aaxis": {
             "endlinecolor": "#A2B1C6",
             "gridcolor": "#506784",
             "linecolor": "#506784",
             "minorgridcolor": "#506784",
             "startlinecolor": "#A2B1C6"
            },
            "baxis": {
             "endlinecolor": "#A2B1C6",
             "gridcolor": "#506784",
             "linecolor": "#506784",
             "minorgridcolor": "#506784",
             "startlinecolor": "#A2B1C6"
            },
            "type": "carpet"
           }
          ],
          "choropleth": [
           {
            "colorbar": {
             "outlinewidth": 0,
             "ticks": ""
            },
            "type": "choropleth"
           }
          ],
          "contour": [
           {
            "colorbar": {
             "outlinewidth": 0,
             "ticks": ""
            },
            "colorscale": [
             [
              0,
              "#0d0887"
             ],
             [
              0.1111111111111111,
              "#46039f"
             ],
             [
              0.2222222222222222,
              "#7201a8"
             ],
             [
              0.3333333333333333,
              "#9c179e"
             ],
             [
              0.4444444444444444,
              "#bd3786"
             ],
             [
              0.5555555555555556,
              "#d8576b"
             ],
             [
              0.6666666666666666,
              "#ed7953"
             ],
             [
              0.7777777777777778,
              "#fb9f3a"
             ],
             [
              0.8888888888888888,
              "#fdca26"
             ],
             [
              1,
              "#f0f921"
             ]
            ],
            "type": "contour"
           }
          ],
          "contourcarpet": [
           {
            "colorbar": {
             "outlinewidth": 0,
             "ticks": ""
            },
            "type": "contourcarpet"
           }
          ],
          "heatmap": [
           {
            "colorbar": {
             "outlinewidth": 0,
             "ticks": ""
            },
            "colorscale": [
             [
              0,
              "#0d0887"
             ],
             [
              0.1111111111111111,
              "#46039f"
             ],
             [
              0.2222222222222222,
              "#7201a8"
             ],
             [
              0.3333333333333333,
              "#9c179e"
             ],
             [
              0.4444444444444444,
              "#bd3786"
             ],
             [
              0.5555555555555556,
              "#d8576b"
             ],
             [
              0.6666666666666666,
              "#ed7953"
             ],
             [
              0.7777777777777778,
              "#fb9f3a"
             ],
             [
              0.8888888888888888,
              "#fdca26"
             ],
             [
              1,
              "#f0f921"
             ]
            ],
            "type": "heatmap"
           }
          ],
          "heatmapgl": [
           {
            "colorbar": {
             "outlinewidth": 0,
             "ticks": ""
            },
            "colorscale": [
             [
              0,
              "#0d0887"
             ],
             [
              0.1111111111111111,
              "#46039f"
             ],
             [
              0.2222222222222222,
              "#7201a8"
             ],
             [
              0.3333333333333333,
              "#9c179e"
             ],
             [
              0.4444444444444444,
              "#bd3786"
             ],
             [
              0.5555555555555556,
              "#d8576b"
             ],
             [
              0.6666666666666666,
              "#ed7953"
             ],
             [
              0.7777777777777778,
              "#fb9f3a"
             ],
             [
              0.8888888888888888,
              "#fdca26"
             ],
             [
              1,
              "#f0f921"
             ]
            ],
            "type": "heatmapgl"
           }
          ],
          "histogram": [
           {
            "marker": {
             "colorbar": {
              "outlinewidth": 0,
              "ticks": ""
             }
            },
            "type": "histogram"
           }
          ],
          "histogram2d": [
           {
            "colorbar": {
             "outlinewidth": 0,
             "ticks": ""
            },
            "colorscale": [
             [
              0,
              "#0d0887"
             ],
             [
              0.1111111111111111,
              "#46039f"
             ],
             [
              0.2222222222222222,
              "#7201a8"
             ],
             [
              0.3333333333333333,
              "#9c179e"
             ],
             [
              0.4444444444444444,
              "#bd3786"
             ],
             [
              0.5555555555555556,
              "#d8576b"
             ],
             [
              0.6666666666666666,
              "#ed7953"
             ],
             [
              0.7777777777777778,
              "#fb9f3a"
             ],
             [
              0.8888888888888888,
              "#fdca26"
             ],
             [
              1,
              "#f0f921"
             ]
            ],
            "type": "histogram2d"
           }
          ],
          "histogram2dcontour": [
           {
            "colorbar": {
             "outlinewidth": 0,
             "ticks": ""
            },
            "colorscale": [
             [
              0,
              "#0d0887"
             ],
             [
              0.1111111111111111,
              "#46039f"
             ],
             [
              0.2222222222222222,
              "#7201a8"
             ],
             [
              0.3333333333333333,
              "#9c179e"
             ],
             [
              0.4444444444444444,
              "#bd3786"
             ],
             [
              0.5555555555555556,
              "#d8576b"
             ],
             [
              0.6666666666666666,
              "#ed7953"
             ],
             [
              0.7777777777777778,
              "#fb9f3a"
             ],
             [
              0.8888888888888888,
              "#fdca26"
             ],
             [
              1,
              "#f0f921"
             ]
            ],
            "type": "histogram2dcontour"
           }
          ],
          "mesh3d": [
           {
            "colorbar": {
             "outlinewidth": 0,
             "ticks": ""
            },
            "type": "mesh3d"
           }
          ],
          "parcoords": [
           {
            "line": {
             "colorbar": {
              "outlinewidth": 0,
              "ticks": ""
             }
            },
            "type": "parcoords"
           }
          ],
          "pie": [
           {
            "automargin": true,
            "type": "pie"
           }
          ],
          "scatter": [
           {
            "marker": {
             "line": {
              "color": "#283442"
             }
            },
            "type": "scatter"
           }
          ],
          "scatter3d": [
           {
            "line": {
             "colorbar": {
              "outlinewidth": 0,
              "ticks": ""
             }
            },
            "marker": {
             "colorbar": {
              "outlinewidth": 0,
              "ticks": ""
             }
            },
            "type": "scatter3d"
           }
          ],
          "scattercarpet": [
           {
            "marker": {
             "colorbar": {
              "outlinewidth": 0,
              "ticks": ""
             }
            },
            "type": "scattercarpet"
           }
          ],
          "scattergeo": [
           {
            "marker": {
             "colorbar": {
              "outlinewidth": 0,
              "ticks": ""
             }
            },
            "type": "scattergeo"
           }
          ],
          "scattergl": [
           {
            "marker": {
             "line": {
              "color": "#283442"
             }
            },
            "type": "scattergl"
           }
          ],
          "scattermapbox": [
           {
            "marker": {
             "colorbar": {
              "outlinewidth": 0,
              "ticks": ""
             }
            },
            "type": "scattermapbox"
           }
          ],
          "scatterpolar": [
           {
            "marker": {
             "colorbar": {
              "outlinewidth": 0,
              "ticks": ""
             }
            },
            "type": "scatterpolar"
           }
          ],
          "scatterpolargl": [
           {
            "marker": {
             "colorbar": {
              "outlinewidth": 0,
              "ticks": ""
             }
            },
            "type": "scatterpolargl"
           }
          ],
          "scatterternary": [
           {
            "marker": {
             "colorbar": {
              "outlinewidth": 0,
              "ticks": ""
             }
            },
            "type": "scatterternary"
           }
          ],
          "surface": [
           {
            "colorbar": {
             "outlinewidth": 0,
             "ticks": ""
            },
            "colorscale": [
             [
              0,
              "#0d0887"
             ],
             [
              0.1111111111111111,
              "#46039f"
             ],
             [
              0.2222222222222222,
              "#7201a8"
             ],
             [
              0.3333333333333333,
              "#9c179e"
             ],
             [
              0.4444444444444444,
              "#bd3786"
             ],
             [
              0.5555555555555556,
              "#d8576b"
             ],
             [
              0.6666666666666666,
              "#ed7953"
             ],
             [
              0.7777777777777778,
              "#fb9f3a"
             ],
             [
              0.8888888888888888,
              "#fdca26"
             ],
             [
              1,
              "#f0f921"
             ]
            ],
            "type": "surface"
           }
          ],
          "table": [
           {
            "cells": {
             "fill": {
              "color": "#506784"
             },
             "line": {
              "color": "rgb(17,17,17)"
             }
            },
            "header": {
             "fill": {
              "color": "#2a3f5f"
             },
             "line": {
              "color": "rgb(17,17,17)"
             }
            },
            "type": "table"
           }
          ]
         },
         "layout": {
          "annotationdefaults": {
           "arrowcolor": "#f2f5fa",
           "arrowhead": 0,
           "arrowwidth": 1
          },
          "coloraxis": {
           "colorbar": {
            "outlinewidth": 0,
            "ticks": ""
           }
          },
          "colorscale": {
           "diverging": [
            [
             0,
             "#8e0152"
            ],
            [
             0.1,
             "#c51b7d"
            ],
            [
             0.2,
             "#de77ae"
            ],
            [
             0.3,
             "#f1b6da"
            ],
            [
             0.4,
             "#fde0ef"
            ],
            [
             0.5,
             "#f7f7f7"
            ],
            [
             0.6,
             "#e6f5d0"
            ],
            [
             0.7,
             "#b8e186"
            ],
            [
             0.8,
             "#7fbc41"
            ],
            [
             0.9,
             "#4d9221"
            ],
            [
             1,
             "#276419"
            ]
           ],
           "sequential": [
            [
             0,
             "#0d0887"
            ],
            [
             0.1111111111111111,
             "#46039f"
            ],
            [
             0.2222222222222222,
             "#7201a8"
            ],
            [
             0.3333333333333333,
             "#9c179e"
            ],
            [
             0.4444444444444444,
             "#bd3786"
            ],
            [
             0.5555555555555556,
             "#d8576b"
            ],
            [
             0.6666666666666666,
             "#ed7953"
            ],
            [
             0.7777777777777778,
             "#fb9f3a"
            ],
            [
             0.8888888888888888,
             "#fdca26"
            ],
            [
             1,
             "#f0f921"
            ]
           ],
           "sequentialminus": [
            [
             0,
             "#0d0887"
            ],
            [
             0.1111111111111111,
             "#46039f"
            ],
            [
             0.2222222222222222,
             "#7201a8"
            ],
            [
             0.3333333333333333,
             "#9c179e"
            ],
            [
             0.4444444444444444,
             "#bd3786"
            ],
            [
             0.5555555555555556,
             "#d8576b"
            ],
            [
             0.6666666666666666,
             "#ed7953"
            ],
            [
             0.7777777777777778,
             "#fb9f3a"
            ],
            [
             0.8888888888888888,
             "#fdca26"
            ],
            [
             1,
             "#f0f921"
            ]
           ]
          },
          "colorway": [
           "#636efa",
           "#EF553B",
           "#00cc96",
           "#ab63fa",
           "#FFA15A",
           "#19d3f3",
           "#FF6692",
           "#B6E880",
           "#FF97FF",
           "#FECB52"
          ],
          "font": {
           "color": "#f2f5fa"
          },
          "geo": {
           "bgcolor": "rgb(17,17,17)",
           "lakecolor": "rgb(17,17,17)",
           "landcolor": "rgb(17,17,17)",
           "showlakes": true,
           "showland": true,
           "subunitcolor": "#506784"
          },
          "hoverlabel": {
           "align": "left"
          },
          "hovermode": "closest",
          "mapbox": {
           "style": "dark"
          },
          "paper_bgcolor": "rgb(17,17,17)",
          "plot_bgcolor": "rgb(17,17,17)",
          "polar": {
           "angularaxis": {
            "gridcolor": "#506784",
            "linecolor": "#506784",
            "ticks": ""
           },
           "bgcolor": "rgb(17,17,17)",
           "radialaxis": {
            "gridcolor": "#506784",
            "linecolor": "#506784",
            "ticks": ""
           }
          },
          "scene": {
           "xaxis": {
            "backgroundcolor": "rgb(17,17,17)",
            "gridcolor": "#506784",
            "gridwidth": 2,
            "linecolor": "#506784",
            "showbackground": true,
            "ticks": "",
            "zerolinecolor": "#C8D4E3"
           },
           "yaxis": {
            "backgroundcolor": "rgb(17,17,17)",
            "gridcolor": "#506784",
            "gridwidth": 2,
            "linecolor": "#506784",
            "showbackground": true,
            "ticks": "",
            "zerolinecolor": "#C8D4E3"
           },
           "zaxis": {
            "backgroundcolor": "rgb(17,17,17)",
            "gridcolor": "#506784",
            "gridwidth": 2,
            "linecolor": "#506784",
            "showbackground": true,
            "ticks": "",
            "zerolinecolor": "#C8D4E3"
           }
          },
          "shapedefaults": {
           "line": {
            "color": "#f2f5fa"
           }
          },
          "sliderdefaults": {
           "bgcolor": "#C8D4E3",
           "bordercolor": "rgb(17,17,17)",
           "borderwidth": 1,
           "tickwidth": 0
          },
          "ternary": {
           "aaxis": {
            "gridcolor": "#506784",
            "linecolor": "#506784",
            "ticks": ""
           },
           "baxis": {
            "gridcolor": "#506784",
            "linecolor": "#506784",
            "ticks": ""
           },
           "bgcolor": "rgb(17,17,17)",
           "caxis": {
            "gridcolor": "#506784",
            "linecolor": "#506784",
            "ticks": ""
           }
          },
          "title": {
           "x": 0.05
          },
          "updatemenudefaults": {
           "bgcolor": "#506784",
           "borderwidth": 0
          },
          "xaxis": {
           "automargin": true,
           "gridcolor": "#283442",
           "linecolor": "#506784",
           "ticks": "",
           "title": {
            "standoff": 15
           },
           "zerolinecolor": "#283442",
           "zerolinewidth": 2
          },
          "yaxis": {
           "automargin": true,
           "gridcolor": "#283442",
           "linecolor": "#506784",
           "ticks": "",
           "title": {
            "standoff": 15
           },
           "zerolinecolor": "#283442",
           "zerolinewidth": 2
          }
         }
        },
        "title": {
         "text": "Ratings distribution"
        },
        "xaxis": {
         "anchor": "y",
         "domain": [
          0,
          1
         ],
         "title": {
          "text": "rating"
         }
        },
        "yaxis": {
         "anchor": "x",
         "domain": [
          0,
          1
         ],
         "title": {
          "text": "item"
         }
        }
       }
      },
      "text/html": [
       "<div>\n",
       "        \n",
       "        \n",
       "            <div id=\"e68b7773-0b72-4f7a-b164-fba39923a4e7\" class=\"plotly-graph-div\" style=\"height:300px; width:100%;\"></div>\n",
       "            <script type=\"text/javascript\">\n",
       "                require([\"plotly\"], function(Plotly) {\n",
       "                    window.PLOTLYENV=window.PLOTLYENV || {};\n",
       "                    \n",
       "                if (document.getElementById(\"e68b7773-0b72-4f7a-b164-fba39923a4e7\")) {\n",
       "                    Plotly.newPlot(\n",
       "                        'e68b7773-0b72-4f7a-b164-fba39923a4e7',\n",
       "                        [{\"alignmentgroup\": \"True\", \"hovertemplate\": \"rating=%{x}<br>item=%{y}<extra></extra>\", \"legendgroup\": \"\", \"marker\": {\"color\": \"#636efa\"}, \"name\": \"\", \"offsetgroup\": \"\", \"orientation\": \"v\", \"showlegend\": false, \"textposition\": \"auto\", \"type\": \"bar\", \"x\": [0, 1, 2, 3, 4, 5, 6, 7, 8, 9, 10], \"xaxis\": \"x\", \"y\": [647294, 1481, 2375, 5118, 7617, 45355, 31687, 66402, 91804, 60778, 71225], \"yaxis\": \"y\"}],\n",
       "                        {\"barmode\": \"relative\", \"height\": 300, \"legend\": {\"tracegroupgap\": 0}, \"margin\": {\"t\": 60}, \"template\": {\"data\": {\"bar\": [{\"error_x\": {\"color\": \"#f2f5fa\"}, \"error_y\": {\"color\": \"#f2f5fa\"}, \"marker\": {\"line\": {\"color\": \"rgb(17,17,17)\", \"width\": 0.5}}, \"type\": \"bar\"}], \"barpolar\": [{\"marker\": {\"line\": {\"color\": \"rgb(17,17,17)\", \"width\": 0.5}}, \"type\": \"barpolar\"}], \"carpet\": [{\"aaxis\": {\"endlinecolor\": \"#A2B1C6\", \"gridcolor\": \"#506784\", \"linecolor\": \"#506784\", \"minorgridcolor\": \"#506784\", \"startlinecolor\": \"#A2B1C6\"}, \"baxis\": {\"endlinecolor\": \"#A2B1C6\", \"gridcolor\": \"#506784\", \"linecolor\": \"#506784\", \"minorgridcolor\": \"#506784\", \"startlinecolor\": \"#A2B1C6\"}, \"type\": \"carpet\"}], \"choropleth\": [{\"colorbar\": {\"outlinewidth\": 0, \"ticks\": \"\"}, \"type\": \"choropleth\"}], \"contour\": [{\"colorbar\": {\"outlinewidth\": 0, \"ticks\": \"\"}, \"colorscale\": [[0.0, \"#0d0887\"], [0.1111111111111111, \"#46039f\"], [0.2222222222222222, \"#7201a8\"], [0.3333333333333333, \"#9c179e\"], [0.4444444444444444, \"#bd3786\"], [0.5555555555555556, \"#d8576b\"], [0.6666666666666666, \"#ed7953\"], [0.7777777777777778, \"#fb9f3a\"], [0.8888888888888888, \"#fdca26\"], [1.0, \"#f0f921\"]], \"type\": \"contour\"}], \"contourcarpet\": [{\"colorbar\": {\"outlinewidth\": 0, \"ticks\": \"\"}, \"type\": \"contourcarpet\"}], \"heatmap\": [{\"colorbar\": {\"outlinewidth\": 0, \"ticks\": \"\"}, \"colorscale\": [[0.0, \"#0d0887\"], [0.1111111111111111, \"#46039f\"], [0.2222222222222222, \"#7201a8\"], [0.3333333333333333, \"#9c179e\"], [0.4444444444444444, \"#bd3786\"], [0.5555555555555556, \"#d8576b\"], [0.6666666666666666, \"#ed7953\"], [0.7777777777777778, \"#fb9f3a\"], [0.8888888888888888, \"#fdca26\"], [1.0, \"#f0f921\"]], \"type\": \"heatmap\"}], \"heatmapgl\": [{\"colorbar\": {\"outlinewidth\": 0, \"ticks\": \"\"}, \"colorscale\": [[0.0, \"#0d0887\"], [0.1111111111111111, \"#46039f\"], [0.2222222222222222, \"#7201a8\"], [0.3333333333333333, \"#9c179e\"], [0.4444444444444444, \"#bd3786\"], [0.5555555555555556, \"#d8576b\"], [0.6666666666666666, \"#ed7953\"], [0.7777777777777778, \"#fb9f3a\"], [0.8888888888888888, \"#fdca26\"], [1.0, \"#f0f921\"]], \"type\": \"heatmapgl\"}], \"histogram\": [{\"marker\": {\"colorbar\": {\"outlinewidth\": 0, \"ticks\": \"\"}}, \"type\": \"histogram\"}], \"histogram2d\": [{\"colorbar\": {\"outlinewidth\": 0, \"ticks\": \"\"}, \"colorscale\": [[0.0, \"#0d0887\"], [0.1111111111111111, \"#46039f\"], [0.2222222222222222, \"#7201a8\"], [0.3333333333333333, \"#9c179e\"], [0.4444444444444444, \"#bd3786\"], [0.5555555555555556, \"#d8576b\"], [0.6666666666666666, \"#ed7953\"], [0.7777777777777778, \"#fb9f3a\"], [0.8888888888888888, \"#fdca26\"], [1.0, \"#f0f921\"]], \"type\": \"histogram2d\"}], \"histogram2dcontour\": [{\"colorbar\": {\"outlinewidth\": 0, \"ticks\": \"\"}, \"colorscale\": [[0.0, \"#0d0887\"], [0.1111111111111111, \"#46039f\"], [0.2222222222222222, \"#7201a8\"], [0.3333333333333333, \"#9c179e\"], [0.4444444444444444, \"#bd3786\"], [0.5555555555555556, \"#d8576b\"], [0.6666666666666666, \"#ed7953\"], [0.7777777777777778, \"#fb9f3a\"], [0.8888888888888888, \"#fdca26\"], [1.0, \"#f0f921\"]], \"type\": \"histogram2dcontour\"}], \"mesh3d\": [{\"colorbar\": {\"outlinewidth\": 0, \"ticks\": \"\"}, \"type\": \"mesh3d\"}], \"parcoords\": [{\"line\": {\"colorbar\": {\"outlinewidth\": 0, \"ticks\": \"\"}}, \"type\": \"parcoords\"}], \"pie\": [{\"automargin\": true, \"type\": \"pie\"}], \"scatter\": [{\"marker\": {\"line\": {\"color\": \"#283442\"}}, \"type\": \"scatter\"}], \"scatter3d\": [{\"line\": {\"colorbar\": {\"outlinewidth\": 0, \"ticks\": \"\"}}, \"marker\": {\"colorbar\": {\"outlinewidth\": 0, \"ticks\": \"\"}}, \"type\": \"scatter3d\"}], \"scattercarpet\": [{\"marker\": {\"colorbar\": {\"outlinewidth\": 0, \"ticks\": \"\"}}, \"type\": \"scattercarpet\"}], \"scattergeo\": [{\"marker\": {\"colorbar\": {\"outlinewidth\": 0, \"ticks\": \"\"}}, \"type\": \"scattergeo\"}], \"scattergl\": [{\"marker\": {\"line\": {\"color\": \"#283442\"}}, \"type\": \"scattergl\"}], \"scattermapbox\": [{\"marker\": {\"colorbar\": {\"outlinewidth\": 0, \"ticks\": \"\"}}, \"type\": \"scattermapbox\"}], \"scatterpolar\": [{\"marker\": {\"colorbar\": {\"outlinewidth\": 0, \"ticks\": \"\"}}, \"type\": \"scatterpolar\"}], \"scatterpolargl\": [{\"marker\": {\"colorbar\": {\"outlinewidth\": 0, \"ticks\": \"\"}}, \"type\": \"scatterpolargl\"}], \"scatterternary\": [{\"marker\": {\"colorbar\": {\"outlinewidth\": 0, \"ticks\": \"\"}}, \"type\": \"scatterternary\"}], \"surface\": [{\"colorbar\": {\"outlinewidth\": 0, \"ticks\": \"\"}, \"colorscale\": [[0.0, \"#0d0887\"], [0.1111111111111111, \"#46039f\"], [0.2222222222222222, \"#7201a8\"], [0.3333333333333333, \"#9c179e\"], [0.4444444444444444, \"#bd3786\"], [0.5555555555555556, \"#d8576b\"], [0.6666666666666666, \"#ed7953\"], [0.7777777777777778, \"#fb9f3a\"], [0.8888888888888888, \"#fdca26\"], [1.0, \"#f0f921\"]], \"type\": \"surface\"}], \"table\": [{\"cells\": {\"fill\": {\"color\": \"#506784\"}, \"line\": {\"color\": \"rgb(17,17,17)\"}}, \"header\": {\"fill\": {\"color\": \"#2a3f5f\"}, \"line\": {\"color\": \"rgb(17,17,17)\"}}, \"type\": \"table\"}]}, \"layout\": {\"annotationdefaults\": {\"arrowcolor\": \"#f2f5fa\", \"arrowhead\": 0, \"arrowwidth\": 1}, \"coloraxis\": {\"colorbar\": {\"outlinewidth\": 0, \"ticks\": \"\"}}, \"colorscale\": {\"diverging\": [[0, \"#8e0152\"], [0.1, \"#c51b7d\"], [0.2, \"#de77ae\"], [0.3, \"#f1b6da\"], [0.4, \"#fde0ef\"], [0.5, \"#f7f7f7\"], [0.6, \"#e6f5d0\"], [0.7, \"#b8e186\"], [0.8, \"#7fbc41\"], [0.9, \"#4d9221\"], [1, \"#276419\"]], \"sequential\": [[0.0, \"#0d0887\"], [0.1111111111111111, \"#46039f\"], [0.2222222222222222, \"#7201a8\"], [0.3333333333333333, \"#9c179e\"], [0.4444444444444444, \"#bd3786\"], [0.5555555555555556, \"#d8576b\"], [0.6666666666666666, \"#ed7953\"], [0.7777777777777778, \"#fb9f3a\"], [0.8888888888888888, \"#fdca26\"], [1.0, \"#f0f921\"]], \"sequentialminus\": [[0.0, \"#0d0887\"], [0.1111111111111111, \"#46039f\"], [0.2222222222222222, \"#7201a8\"], [0.3333333333333333, \"#9c179e\"], [0.4444444444444444, \"#bd3786\"], [0.5555555555555556, \"#d8576b\"], [0.6666666666666666, \"#ed7953\"], [0.7777777777777778, \"#fb9f3a\"], [0.8888888888888888, \"#fdca26\"], [1.0, \"#f0f921\"]]}, \"colorway\": [\"#636efa\", \"#EF553B\", \"#00cc96\", \"#ab63fa\", \"#FFA15A\", \"#19d3f3\", \"#FF6692\", \"#B6E880\", \"#FF97FF\", \"#FECB52\"], \"font\": {\"color\": \"#f2f5fa\"}, \"geo\": {\"bgcolor\": \"rgb(17,17,17)\", \"lakecolor\": \"rgb(17,17,17)\", \"landcolor\": \"rgb(17,17,17)\", \"showlakes\": true, \"showland\": true, \"subunitcolor\": \"#506784\"}, \"hoverlabel\": {\"align\": \"left\"}, \"hovermode\": \"closest\", \"mapbox\": {\"style\": \"dark\"}, \"paper_bgcolor\": \"rgb(17,17,17)\", \"plot_bgcolor\": \"rgb(17,17,17)\", \"polar\": {\"angularaxis\": {\"gridcolor\": \"#506784\", \"linecolor\": \"#506784\", \"ticks\": \"\"}, \"bgcolor\": \"rgb(17,17,17)\", \"radialaxis\": {\"gridcolor\": \"#506784\", \"linecolor\": \"#506784\", \"ticks\": \"\"}}, \"scene\": {\"xaxis\": {\"backgroundcolor\": \"rgb(17,17,17)\", \"gridcolor\": \"#506784\", \"gridwidth\": 2, \"linecolor\": \"#506784\", \"showbackground\": true, \"ticks\": \"\", \"zerolinecolor\": \"#C8D4E3\"}, \"yaxis\": {\"backgroundcolor\": \"rgb(17,17,17)\", \"gridcolor\": \"#506784\", \"gridwidth\": 2, \"linecolor\": \"#506784\", \"showbackground\": true, \"ticks\": \"\", \"zerolinecolor\": \"#C8D4E3\"}, \"zaxis\": {\"backgroundcolor\": \"rgb(17,17,17)\", \"gridcolor\": \"#506784\", \"gridwidth\": 2, \"linecolor\": \"#506784\", \"showbackground\": true, \"ticks\": \"\", \"zerolinecolor\": \"#C8D4E3\"}}, \"shapedefaults\": {\"line\": {\"color\": \"#f2f5fa\"}}, \"sliderdefaults\": {\"bgcolor\": \"#C8D4E3\", \"bordercolor\": \"rgb(17,17,17)\", \"borderwidth\": 1, \"tickwidth\": 0}, \"ternary\": {\"aaxis\": {\"gridcolor\": \"#506784\", \"linecolor\": \"#506784\", \"ticks\": \"\"}, \"baxis\": {\"gridcolor\": \"#506784\", \"linecolor\": \"#506784\", \"ticks\": \"\"}, \"bgcolor\": \"rgb(17,17,17)\", \"caxis\": {\"gridcolor\": \"#506784\", \"linecolor\": \"#506784\", \"ticks\": \"\"}}, \"title\": {\"x\": 0.05}, \"updatemenudefaults\": {\"bgcolor\": \"#506784\", \"borderwidth\": 0}, \"xaxis\": {\"automargin\": true, \"gridcolor\": \"#283442\", \"linecolor\": \"#506784\", \"ticks\": \"\", \"title\": {\"standoff\": 15}, \"zerolinecolor\": \"#283442\", \"zerolinewidth\": 2}, \"yaxis\": {\"automargin\": true, \"gridcolor\": \"#283442\", \"linecolor\": \"#506784\", \"ticks\": \"\", \"title\": {\"standoff\": 15}, \"zerolinecolor\": \"#283442\", \"zerolinewidth\": 2}}}, \"title\": {\"text\": \"Ratings distribution\"}, \"xaxis\": {\"anchor\": \"y\", \"domain\": [0.0, 1.0], \"title\": {\"text\": \"rating\"}}, \"yaxis\": {\"anchor\": \"x\", \"domain\": [0.0, 1.0], \"title\": {\"text\": \"item\"}}},\n",
       "                        {\"responsive\": true}\n",
       "                    ).then(function(){\n",
       "                            \n",
       "var gd = document.getElementById('e68b7773-0b72-4f7a-b164-fba39923a4e7');\n",
       "var x = new MutationObserver(function (mutations, observer) {{\n",
       "        var display = window.getComputedStyle(gd).display;\n",
       "        if (!display || display === 'none') {{\n",
       "            console.log([gd, 'removed!']);\n",
       "            Plotly.purge(gd);\n",
       "            observer.disconnect();\n",
       "        }}\n",
       "}});\n",
       "\n",
       "// Listen for the removal of the full notebook cells\n",
       "var notebookContainer = gd.closest('#notebook-container');\n",
       "if (notebookContainer) {{\n",
       "    x.observe(notebookContainer, {childList: true});\n",
       "}}\n",
       "\n",
       "// Listen for the clearing of the current output cell\n",
       "var outputEl = gd.closest('.output');\n",
       "if (outputEl) {{\n",
       "    x.observe(outputEl, {childList: true});\n",
       "}}\n",
       "\n",
       "                        })\n",
       "                };\n",
       "                });\n",
       "            </script>\n",
       "        </div>"
      ]
     },
     "metadata": {},
     "output_type": "display_data"
    }
   ],
   "source": [
    "tmp = ratings_new.groupby('rating')['item'].count().reset_index()\n",
    "fig = px.bar(tmp,x='rating',y='item')\n",
    "fig.update_layout(title= 'Ratings distribution',\n",
    "                  template = 'plotly_dark',\n",
    "                  height=300)\n",
    "fig.show()"
   ]
  },
  {
   "cell_type": "markdown",
   "metadata": {},
   "source": [
    "After removing multiple ISBNs for the same books, we can explore the top 20 books by average rating and number of users who have rated the book. "
   ]
  },
  {
   "cell_type": "code",
   "execution_count": 179,
   "metadata": {},
   "outputs": [
    {
     "data": {
      "text/html": [
       "<div><table id=\"6b0803f9-ab82-4285-b80a-e4a2962cab32\" class=\"display\"><thead>\n",
       "    <tr style=\"text-align: right;\">\n",
       "      <th></th>\n",
       "      <th>Users rated</th>\n",
       "      <th>Avg rating</th>\n",
       "      <th>Title</th>\n",
       "      <th>Author</th>\n",
       "    </tr>\n",
       "  </thead></table>\n",
       "<script type=\"text/javascript\">\n",
       "require([\"datatables\"], function (datatables) {\n",
       "    $(document).ready(function () {        \n",
       "        var dt_args = {\"columnDefs\": [{\"width\": \"70px\", \"targets\": \"_all\"}], \"data\": [[0, 652082, 10.0, \"Dinotopia: A Land Apart from Time (Dinotopia)\", \"James Gurney\"], [1, 647737, 10.0, \"The Complete Tales of Beatrix Potter\", \"Beatrix Potter\"], [2, 630283, 10.0, \"The Lord of the Rings (Leatherette Collector's Edition)\", \"J. R. R. Tolkien\"], [3, 596547, 10.0, \"Sluggy Freelance: Yippy Skippy, the Evil! (Book 5)\", \"Pete Abrams\"], [4, 596547, 10.0, \"Bug, Witch and the Robot\", \"Pete Abrams\"], [5, 593016, 10.0, \"The Brothers Karamazov (Signet Classics (Paperback))\", \"Fyodor Dostoyevsky\"], [6, 562502, 10.0, \"Heart of the Home : Notes From a Vineyard Kitchen\", \"Susan Branch\"], [7, 560359, 10.0, \"Last Man Down: A New York City Fire Chief and the Collapse of the World Trade Center\", \"Richard Picciotto\"], [8, 550725, 10.0, \"LA Metamorfosis (Colecci?on Literaria Lyc (Leer y Crear))\", \"Franz Kafka\"], [9, 541910, 10.0, \"Poppy Angel of Love\", \"Barbara Larriva\"], [10, 527437, 10.0, \"Cinderella Skeleton\", \"Robert D. San Souci\"], [12, 525844, 10.0, \"On Turning Sixty-Five: Notes from the Field\", \"John Jerome\"], [13, 524838, 10.0, \"W\\u00c3?\\u00c2\\u00bcrdest du bitte endlich still sein, bitte.\", \"Raymond Carver\"], [14, 524185, 10.0, \"Tinder-box: 66 Songs for Children (Classroom Music)\", \"Sylvia Barratt\"], [15, 523860, 10.0, \"What You Say Is What You Get\", \"Don Gossett\"], [16, 521684, 10.0, \"The Hidden Powers of Animals: Uncovering the Secrets of Nature (Reader's Digest (Please Do Not Use))\", \"Karl P. N. Shuker\"], [17, 513338, 10.0, \"No. 1 Ladies' Detective Agency Boxed Set\", \"ALEXANDER MCCALL SMITH\"], [18, 513338, 10.0, \"Kevyn Aucoin: A Beautiful Life\", \"Kerry Diamond\"], [19, 512355, 10.0, \"Victorian Style\", \"Martin Miller\"], [20, 511609, 10.0, \"Lord Toede (Dragonlance:  Villains, Book 5)\", \"Jeff Grubb\"]]};\n",
       "        dt_args = eval_functions(dt_args);\n",
       "        table = $('#6b0803f9-ab82-4285-b80a-e4a2962cab32').DataTable(dt_args);\n",
       "    });\n",
       "})\n",
       "</script>\n",
       "</div>\n"
      ],
      "text/plain": [
       "    Users rated  Avg rating  \\\n",
       "0        652082        10.0   \n",
       "1        647737        10.0   \n",
       "2        630283        10.0   \n",
       "3        596547        10.0   \n",
       "4        596547        10.0   \n",
       "5        593016        10.0   \n",
       "6        562502        10.0   \n",
       "7        560359        10.0   \n",
       "8        550725        10.0   \n",
       "9        541910        10.0   \n",
       "10       527437        10.0   \n",
       "12       525844        10.0   \n",
       "13       524838        10.0   \n",
       "14       524185        10.0   \n",
       "15       523860        10.0   \n",
       "16       521684        10.0   \n",
       "17       513338        10.0   \n",
       "18       513338        10.0   \n",
       "19       512355        10.0   \n",
       "20       511609        10.0   \n",
       "\n",
       "                                                Title                  Author  \n",
       "0       Dinotopia: A Land Apart from Time (Dinotopia)            James Gurney  \n",
       "1                The Complete Tales of Beatrix Potter          Beatrix Potter  \n",
       "2   The Lord of the Rings (Leatherette Collector's...        J. R. R. Tolkien  \n",
       "3   Sluggy Freelance: Yippy Skippy, the Evil! (Boo...             Pete Abrams  \n",
       "4                            Bug, Witch and the Robot             Pete Abrams  \n",
       "5   The Brothers Karamazov (Signet Classics (Paper...      Fyodor Dostoyevsky  \n",
       "6   Heart of the Home : Notes From a Vineyard Kitchen            Susan Branch  \n",
       "7   Last Man Down: A New York City Fire Chief and ...       Richard Picciotto  \n",
       "8   LA Metamorfosis (Colecci?on Literaria Lyc (Lee...             Franz Kafka  \n",
       "9                                 Poppy Angel of Love         Barbara Larriva  \n",
       "10                                Cinderella Skeleton     Robert D. San Souci  \n",
       "12        On Turning Sixty-Five: Notes from the Field             John Jerome  \n",
       "13     WÃ?Â¼rdest du bitte endlich still sein, bitte.          Raymond Carver  \n",
       "14  Tinder-box: 66 Songs for Children (Classroom M...          Sylvia Barratt  \n",
       "15                       What You Say Is What You Get             Don Gossett  \n",
       "16  The Hidden Powers of Animals: Uncovering the S...       Karl P. N. Shuker  \n",
       "17           No. 1 Ladies' Detective Agency Boxed Set  ALEXANDER MCCALL SMITH  \n",
       "18                     Kevyn Aucoin: A Beautiful Life           Kerry Diamond  \n",
       "19                                    Victorian Style           Martin Miller  \n",
       "20        Lord Toede (Dragonlance:  Villains, Book 5)              Jeff Grubb  "
      ]
     },
     "execution_count": 179,
     "metadata": {},
     "output_type": "execute_result"
    }
   ],
   "source": [
    "tmp = ratings_new.groupby('item').agg({'user':'sum',\n",
    "                                 'rating':'mean'}).reset_index().sort_values(['rating','user'],ascending=False).head(20)\n",
    "top_20 = tmp.merge(books[['one_isbn','Book-Title','Book-Author']],how='left',left_on='item', right_on='one_isbn').drop_duplicates()\n",
    "top_20.rename(columns = {'Book-Title':'Title',\n",
    "                        'Book-Author':'Author', 'rating':'Avg rating','user':'Users rated'},inplace=True)\n",
    "top_20.drop(['item','one_isbn'],axis=1,inplace=True)\n",
    "top_20"
   ]
  },
  {
   "cell_type": "code",
   "execution_count": null,
   "metadata": {},
   "outputs": [],
   "source": [
    "# ratings_new.groupby(['item'])['rating'].count().reset_index().sort_values('rating',ascending=False)[:10000]"
   ]
  },
  {
   "cell_type": "markdown",
   "metadata": {},
   "source": [
    "As the purpose of the system to recommend books that have similar ratings, we will remove books that have fewer than 15 ratings (the number is selectedin such a way that we have more than 10k books in the final dataset). "
   ]
  },
  {
   "cell_type": "code",
   "execution_count": 181,
   "metadata": {},
   "outputs": [
    {
     "name": "stdout",
     "output_type": "stream",
     "text": [
      "The resulting rating matrix include\n",
      "Books: 10470\n",
      "Users: 3012\n"
     ]
    }
   ],
   "source": [
    "min_book_ratings_new = 14\n",
    "filter_books = ratings_new['item'].value_counts() > min_book_ratings_new\n",
    "filter_books = filter_books[filter_books].index.tolist()\n",
    "\n",
    "min_user_ratings_new = 50\n",
    "filter_users = ratings_new['user'].value_counts() > min_user_ratings_new\n",
    "filter_users = filter_users[filter_users].index.tolist()\n",
    "\n",
    "\n",
    "short_ratings_new = ratings_new[(ratings_new['item'].isin(filter_books)) & (ratings_new['user'].isin(filter_users))]\n",
    "short_ratings_new.reset_index(inplace=True,drop=True)\n",
    "# print('The original data frame shape:\\t{}'.format(ratings_new.shape))\n",
    "# print('The new data frame shape:\\t{}'.format(short_ratings_new.shape))\n",
    "\n",
    "print('The resulting rating matrix include')\n",
    "print('Books: {}'.format(pd.Series(filter_books).nunique()))\n",
    "print('Users: {}'.format(pd.Series(filter_users).nunique()))"
   ]
  },
  {
   "cell_type": "markdown",
   "metadata": {},
   "source": [
    "# Model"
   ]
  },
  {
   "cell_type": "markdown",
   "metadata": {},
   "source": [
    "Because the objective is to identify top-n similar books, we have to use nearest-neighbor-based methods that are based on the similarity between pairs of items or users. We will be using Python's surprise package to train and test 3 k-NN based models.\n",
    "We will first perform a Grid Search to find optimal parameters for k-neighbors and similarity measures."
   ]
  },
  {
   "cell_type": "markdown",
   "metadata": {},
   "source": [
    "### Grid Search"
   ]
  },
  {
   "cell_type": "code",
   "execution_count": 25,
   "metadata": {},
   "outputs": [],
   "source": [
    "# A reader is needed but only the rating_scale param is required when reading data from df \n",
    "reader = Reader(rating_scale=(1, 10))\n",
    "\n",
    "# The columns must correspond to user id, item id and ratings (in that order)\n",
    "data = Dataset.load_from_df(short_ratings_new[['user', 'item', 'rating']], reader)"
   ]
  },
  {
   "cell_type": "code",
   "execution_count": 26,
   "metadata": {},
   "outputs": [
    {
     "name": "stdout",
     "output_type": "stream",
     "text": [
      "Computing the msd similarity matrix...\n",
      "Done computing similarity matrix.\n",
      "Computing the msd similarity matrix...\n",
      "Done computing similarity matrix.\n",
      "Computing the msd similarity matrix...\n",
      "Done computing similarity matrix.\n",
      "Computing the cosine similarity matrix...\n",
      "Done computing similarity matrix.\n",
      "Computing the cosine similarity matrix...\n",
      "Done computing similarity matrix.\n",
      "Computing the cosine similarity matrix...\n",
      "Done computing similarity matrix.\n",
      "Computing the msd similarity matrix...\n",
      "Done computing similarity matrix.\n",
      "Computing the msd similarity matrix...\n",
      "Done computing similarity matrix.\n",
      "Computing the msd similarity matrix...\n",
      "Done computing similarity matrix.\n",
      "Computing the cosine similarity matrix...\n",
      "Done computing similarity matrix.\n",
      "Computing the cosine similarity matrix...\n",
      "Done computing similarity matrix.\n",
      "Computing the cosine similarity matrix...\n",
      "Done computing similarity matrix.\n",
      "Computing the msd similarity matrix...\n",
      "Done computing similarity matrix.\n",
      "Computing the msd similarity matrix...\n",
      "Done computing similarity matrix.\n",
      "Computing the msd similarity matrix...\n",
      "Done computing similarity matrix.\n",
      "Computing the cosine similarity matrix...\n",
      "Done computing similarity matrix.\n",
      "Computing the cosine similarity matrix...\n",
      "Done computing similarity matrix.\n",
      "Computing the cosine similarity matrix...\n",
      "Done computing similarity matrix.\n",
      "Computing the msd similarity matrix...\n",
      "Done computing similarity matrix.\n",
      "Computing the msd similarity matrix...\n",
      "Done computing similarity matrix.\n",
      "Computing the msd similarity matrix...\n",
      "Done computing similarity matrix.\n",
      "Computing the cosine similarity matrix...\n",
      "Done computing similarity matrix.\n",
      "Computing the cosine similarity matrix...\n",
      "Done computing similarity matrix.\n",
      "Computing the cosine similarity matrix...\n",
      "Done computing similarity matrix.\n",
      "Computing the msd similarity matrix...\n",
      "Done computing similarity matrix.\n",
      "Computing the msd similarity matrix...\n",
      "Done computing similarity matrix.\n",
      "Computing the msd similarity matrix...\n",
      "Done computing similarity matrix.\n",
      "Computing the cosine similarity matrix...\n",
      "Done computing similarity matrix.\n",
      "Computing the cosine similarity matrix...\n",
      "Done computing similarity matrix.\n",
      "Computing the cosine similarity matrix...\n",
      "Done computing similarity matrix.\n",
      "Computing the msd similarity matrix...\n",
      "Done computing similarity matrix.\n",
      "Computing the msd similarity matrix...\n",
      "Done computing similarity matrix.\n",
      "Computing the msd similarity matrix...\n",
      "Done computing similarity matrix.\n",
      "Computing the cosine similarity matrix...\n",
      "Done computing similarity matrix.\n",
      "Computing the cosine similarity matrix...\n",
      "Done computing similarity matrix.\n",
      "Computing the cosine similarity matrix...\n",
      "Done computing similarity matrix.\n",
      "Computing the msd similarity matrix...\n",
      "Done computing similarity matrix.\n",
      "Computing the msd similarity matrix...\n",
      "Done computing similarity matrix.\n",
      "Computing the msd similarity matrix...\n",
      "Done computing similarity matrix.\n",
      "Computing the cosine similarity matrix...\n",
      "Done computing similarity matrix.\n",
      "Computing the cosine similarity matrix...\n",
      "Done computing similarity matrix.\n",
      "Computing the cosine similarity matrix...\n",
      "Done computing similarity matrix.\n",
      "Computing the msd similarity matrix...\n",
      "Done computing similarity matrix.\n",
      "Computing the msd similarity matrix...\n",
      "Done computing similarity matrix.\n",
      "Computing the msd similarity matrix...\n",
      "Done computing similarity matrix.\n",
      "Computing the cosine similarity matrix...\n",
      "Done computing similarity matrix.\n",
      "Computing the cosine similarity matrix...\n",
      "Done computing similarity matrix.\n",
      "Computing the cosine similarity matrix...\n",
      "Done computing similarity matrix.\n",
      "Computing the msd similarity matrix...\n",
      "Done computing similarity matrix.\n",
      "Computing the msd similarity matrix...\n",
      "Done computing similarity matrix.\n",
      "Computing the msd similarity matrix...\n",
      "Done computing similarity matrix.\n",
      "Computing the cosine similarity matrix...\n",
      "Done computing similarity matrix.\n",
      "Computing the cosine similarity matrix...\n",
      "Done computing similarity matrix.\n",
      "Computing the cosine similarity matrix...\n",
      "Done computing similarity matrix.\n",
      "Computing the msd similarity matrix...\n",
      "Done computing similarity matrix.\n",
      "Computing the msd similarity matrix...\n",
      "Done computing similarity matrix.\n",
      "Computing the msd similarity matrix...\n",
      "Done computing similarity matrix.\n",
      "Computing the cosine similarity matrix...\n",
      "Done computing similarity matrix.\n",
      "Computing the cosine similarity matrix...\n",
      "Done computing similarity matrix.\n",
      "Computing the cosine similarity matrix...\n",
      "Done computing similarity matrix.\n",
      "Computing the msd similarity matrix...\n",
      "Done computing similarity matrix.\n",
      "Computing the msd similarity matrix...\n",
      "Done computing similarity matrix.\n",
      "Computing the msd similarity matrix...\n",
      "Done computing similarity matrix.\n",
      "Computing the cosine similarity matrix...\n",
      "Done computing similarity matrix.\n",
      "Computing the cosine similarity matrix...\n",
      "Done computing similarity matrix.\n",
      "Computing the cosine similarity matrix...\n",
      "Done computing similarity matrix.\n",
      "Computing the msd similarity matrix...\n",
      "Done computing similarity matrix.\n",
      "Computing the msd similarity matrix...\n",
      "Done computing similarity matrix.\n",
      "Computing the msd similarity matrix...\n",
      "Done computing similarity matrix.\n",
      "Computing the cosine similarity matrix...\n",
      "Done computing similarity matrix.\n",
      "Computing the cosine similarity matrix...\n",
      "Done computing similarity matrix.\n",
      "Computing the cosine similarity matrix...\n",
      "Done computing similarity matrix.\n",
      "Computing the msd similarity matrix...\n",
      "Done computing similarity matrix.\n",
      "Computing the msd similarity matrix...\n",
      "Done computing similarity matrix.\n",
      "Computing the msd similarity matrix...\n",
      "Done computing similarity matrix.\n",
      "Computing the cosine similarity matrix...\n",
      "Done computing similarity matrix.\n",
      "Computing the cosine similarity matrix...\n",
      "Done computing similarity matrix.\n",
      "Computing the cosine similarity matrix...\n",
      "Done computing similarity matrix.\n",
      "Computing the msd similarity matrix...\n",
      "Done computing similarity matrix.\n",
      "Computing the msd similarity matrix...\n",
      "Done computing similarity matrix.\n",
      "Computing the msd similarity matrix...\n",
      "Done computing similarity matrix.\n",
      "Computing the cosine similarity matrix...\n",
      "Done computing similarity matrix.\n",
      "Computing the cosine similarity matrix...\n",
      "Done computing similarity matrix.\n",
      "Computing the cosine similarity matrix...\n",
      "Done computing similarity matrix.\n",
      "Computing the msd similarity matrix...\n",
      "Done computing similarity matrix.\n",
      "Computing the msd similarity matrix...\n",
      "Done computing similarity matrix.\n",
      "Computing the msd similarity matrix...\n",
      "Done computing similarity matrix.\n",
      "Computing the cosine similarity matrix...\n",
      "Done computing similarity matrix.\n",
      "Computing the cosine similarity matrix...\n",
      "Done computing similarity matrix.\n",
      "Computing the cosine similarity matrix...\n",
      "Done computing similarity matrix.\n",
      "CPU times: user 1h 2min 57s, sys: 2min 1s, total: 1h 4min 59s\n",
      "Wall time: 1h 29min 26s\n"
     ]
    }
   ],
   "source": [
    "%%time\n",
    "param_grid = {'k': [10,15,20,25,30],\n",
    "              'sim_options': {'name': ['msd', 'cosine'],\n",
    "                              'user_based': [False]}\n",
    "              }\n",
    "\n",
    "knnbasic_gs = GridSearchCV(KNNBasic, param_grid, measures=['rmse', 'mae'], cv=3)\n",
    "knnbasic_gs.fit(data)\n",
    "\n",
    "knnmeans_gs = GridSearchCV(KNNWithMeans, param_grid, measures=['rmse', 'mae'], cv=3)\n",
    "knnmeans_gs.fit(data)\n",
    "\n",
    "knnz_gs = GridSearchCV(KNNWithZScore, param_grid, measures=['rmse', 'mae'], cv=3)\n",
    "knnz_gs.fit(data)"
   ]
  },
  {
   "cell_type": "markdown",
   "metadata": {},
   "source": [
    "After Grid Search, it is evident that models that use MSD, Mean Squared Difference similarity between all pairs of items, as similarity measure perform better than models using Cosine similarity. Increasing k parameter also seems to improve model performance. "
   ]
  },
  {
   "cell_type": "code",
   "execution_count": 151,
   "metadata": {},
   "outputs": [
    {
     "data": {
      "application/vnd.plotly.v1+json": {
       "config": {
        "plotlyServerURL": "https://plot.ly"
       },
       "data": [
        {
         "name": "knn_basic_msd",
         "type": "scatter",
         "x": [
          10,
          15,
          20,
          25,
          30
         ],
         "y": [
          3.4677095372557916,
          3.4396819305075432,
          3.425261898729526,
          3.4178352730679578,
          3.413137586755751
         ]
        },
        {
         "name": "knn_means_msd",
         "type": "scatter",
         "x": [
          10,
          15,
          20,
          25,
          30
         ],
         "y": [
          3.4977977126695485,
          3.4707806419708205,
          3.458113130757104,
          3.4516789550657077,
          3.4475175583429256
         ]
        },
        {
         "name": "knn_zscore_msd",
         "type": "scatter",
         "x": [
          10,
          15,
          20,
          25,
          30
         ],
         "y": [
          3.5301332038182927,
          3.5004414056341173,
          3.4873159235099216,
          3.479428075558251,
          3.4743151758937176
         ]
        },
        {
         "name": "knn_basic_cosine",
         "type": "scatter",
         "x": [
          10,
          15,
          20,
          25,
          30
         ],
         "y": [
          3.7651361699359818,
          3.721568827448626,
          3.667214263795241,
          3.6370657594522675,
          3.6301957197648806
         ]
        },
        {
         "name": "knn_means_cosine",
         "type": "scatter",
         "x": [
          10,
          15,
          20,
          25,
          30
         ],
         "y": [
          3.7161536604105887,
          3.6827041903911373,
          3.6351383025160935,
          3.6053168840529266,
          3.6036703696925247
         ]
        },
        {
         "name": "knn_zscore_cosine",
         "type": "scatter",
         "x": [
          10,
          15,
          20,
          25,
          30
         ],
         "y": [
          3.7027198266092323,
          3.6581534572259464,
          3.612351493680045,
          3.584714082146759,
          3.5801124741121364
         ]
        }
       ],
       "layout": {
        "colorway": [
         "rgb(136, 204, 238)",
         "rgb(204, 102, 119)",
         "rgb(221, 204, 119)",
         "rgb(17, 119, 51)",
         "rgb(51, 34, 136)",
         "rgb(170, 68, 153)",
         "rgb(68, 170, 153)",
         "rgb(153, 153, 51)",
         "rgb(136, 34, 85)",
         "rgb(102, 17, 0)",
         "rgb(136, 136, 136)"
        ],
        "height": 350,
        "legend": {
         "orientation": "h"
        },
        "margin": {
         "b": 50,
         "l": 30,
         "r": 20,
         "t": 50
        },
        "template": {
         "data": {
          "bar": [
           {
            "error_x": {
             "color": "#f2f5fa"
            },
            "error_y": {
             "color": "#f2f5fa"
            },
            "marker": {
             "line": {
              "color": "rgb(17,17,17)",
              "width": 0.5
             }
            },
            "type": "bar"
           }
          ],
          "barpolar": [
           {
            "marker": {
             "line": {
              "color": "rgb(17,17,17)",
              "width": 0.5
             }
            },
            "type": "barpolar"
           }
          ],
          "carpet": [
           {
            "aaxis": {
             "endlinecolor": "#A2B1C6",
             "gridcolor": "#506784",
             "linecolor": "#506784",
             "minorgridcolor": "#506784",
             "startlinecolor": "#A2B1C6"
            },
            "baxis": {
             "endlinecolor": "#A2B1C6",
             "gridcolor": "#506784",
             "linecolor": "#506784",
             "minorgridcolor": "#506784",
             "startlinecolor": "#A2B1C6"
            },
            "type": "carpet"
           }
          ],
          "choropleth": [
           {
            "colorbar": {
             "outlinewidth": 0,
             "ticks": ""
            },
            "type": "choropleth"
           }
          ],
          "contour": [
           {
            "colorbar": {
             "outlinewidth": 0,
             "ticks": ""
            },
            "colorscale": [
             [
              0,
              "#0d0887"
             ],
             [
              0.1111111111111111,
              "#46039f"
             ],
             [
              0.2222222222222222,
              "#7201a8"
             ],
             [
              0.3333333333333333,
              "#9c179e"
             ],
             [
              0.4444444444444444,
              "#bd3786"
             ],
             [
              0.5555555555555556,
              "#d8576b"
             ],
             [
              0.6666666666666666,
              "#ed7953"
             ],
             [
              0.7777777777777778,
              "#fb9f3a"
             ],
             [
              0.8888888888888888,
              "#fdca26"
             ],
             [
              1,
              "#f0f921"
             ]
            ],
            "type": "contour"
           }
          ],
          "contourcarpet": [
           {
            "colorbar": {
             "outlinewidth": 0,
             "ticks": ""
            },
            "type": "contourcarpet"
           }
          ],
          "heatmap": [
           {
            "colorbar": {
             "outlinewidth": 0,
             "ticks": ""
            },
            "colorscale": [
             [
              0,
              "#0d0887"
             ],
             [
              0.1111111111111111,
              "#46039f"
             ],
             [
              0.2222222222222222,
              "#7201a8"
             ],
             [
              0.3333333333333333,
              "#9c179e"
             ],
             [
              0.4444444444444444,
              "#bd3786"
             ],
             [
              0.5555555555555556,
              "#d8576b"
             ],
             [
              0.6666666666666666,
              "#ed7953"
             ],
             [
              0.7777777777777778,
              "#fb9f3a"
             ],
             [
              0.8888888888888888,
              "#fdca26"
             ],
             [
              1,
              "#f0f921"
             ]
            ],
            "type": "heatmap"
           }
          ],
          "heatmapgl": [
           {
            "colorbar": {
             "outlinewidth": 0,
             "ticks": ""
            },
            "colorscale": [
             [
              0,
              "#0d0887"
             ],
             [
              0.1111111111111111,
              "#46039f"
             ],
             [
              0.2222222222222222,
              "#7201a8"
             ],
             [
              0.3333333333333333,
              "#9c179e"
             ],
             [
              0.4444444444444444,
              "#bd3786"
             ],
             [
              0.5555555555555556,
              "#d8576b"
             ],
             [
              0.6666666666666666,
              "#ed7953"
             ],
             [
              0.7777777777777778,
              "#fb9f3a"
             ],
             [
              0.8888888888888888,
              "#fdca26"
             ],
             [
              1,
              "#f0f921"
             ]
            ],
            "type": "heatmapgl"
           }
          ],
          "histogram": [
           {
            "marker": {
             "colorbar": {
              "outlinewidth": 0,
              "ticks": ""
             }
            },
            "type": "histogram"
           }
          ],
          "histogram2d": [
           {
            "colorbar": {
             "outlinewidth": 0,
             "ticks": ""
            },
            "colorscale": [
             [
              0,
              "#0d0887"
             ],
             [
              0.1111111111111111,
              "#46039f"
             ],
             [
              0.2222222222222222,
              "#7201a8"
             ],
             [
              0.3333333333333333,
              "#9c179e"
             ],
             [
              0.4444444444444444,
              "#bd3786"
             ],
             [
              0.5555555555555556,
              "#d8576b"
             ],
             [
              0.6666666666666666,
              "#ed7953"
             ],
             [
              0.7777777777777778,
              "#fb9f3a"
             ],
             [
              0.8888888888888888,
              "#fdca26"
             ],
             [
              1,
              "#f0f921"
             ]
            ],
            "type": "histogram2d"
           }
          ],
          "histogram2dcontour": [
           {
            "colorbar": {
             "outlinewidth": 0,
             "ticks": ""
            },
            "colorscale": [
             [
              0,
              "#0d0887"
             ],
             [
              0.1111111111111111,
              "#46039f"
             ],
             [
              0.2222222222222222,
              "#7201a8"
             ],
             [
              0.3333333333333333,
              "#9c179e"
             ],
             [
              0.4444444444444444,
              "#bd3786"
             ],
             [
              0.5555555555555556,
              "#d8576b"
             ],
             [
              0.6666666666666666,
              "#ed7953"
             ],
             [
              0.7777777777777778,
              "#fb9f3a"
             ],
             [
              0.8888888888888888,
              "#fdca26"
             ],
             [
              1,
              "#f0f921"
             ]
            ],
            "type": "histogram2dcontour"
           }
          ],
          "mesh3d": [
           {
            "colorbar": {
             "outlinewidth": 0,
             "ticks": ""
            },
            "type": "mesh3d"
           }
          ],
          "parcoords": [
           {
            "line": {
             "colorbar": {
              "outlinewidth": 0,
              "ticks": ""
             }
            },
            "type": "parcoords"
           }
          ],
          "pie": [
           {
            "automargin": true,
            "type": "pie"
           }
          ],
          "scatter": [
           {
            "marker": {
             "line": {
              "color": "#283442"
             }
            },
            "type": "scatter"
           }
          ],
          "scatter3d": [
           {
            "line": {
             "colorbar": {
              "outlinewidth": 0,
              "ticks": ""
             }
            },
            "marker": {
             "colorbar": {
              "outlinewidth": 0,
              "ticks": ""
             }
            },
            "type": "scatter3d"
           }
          ],
          "scattercarpet": [
           {
            "marker": {
             "colorbar": {
              "outlinewidth": 0,
              "ticks": ""
             }
            },
            "type": "scattercarpet"
           }
          ],
          "scattergeo": [
           {
            "marker": {
             "colorbar": {
              "outlinewidth": 0,
              "ticks": ""
             }
            },
            "type": "scattergeo"
           }
          ],
          "scattergl": [
           {
            "marker": {
             "line": {
              "color": "#283442"
             }
            },
            "type": "scattergl"
           }
          ],
          "scattermapbox": [
           {
            "marker": {
             "colorbar": {
              "outlinewidth": 0,
              "ticks": ""
             }
            },
            "type": "scattermapbox"
           }
          ],
          "scatterpolar": [
           {
            "marker": {
             "colorbar": {
              "outlinewidth": 0,
              "ticks": ""
             }
            },
            "type": "scatterpolar"
           }
          ],
          "scatterpolargl": [
           {
            "marker": {
             "colorbar": {
              "outlinewidth": 0,
              "ticks": ""
             }
            },
            "type": "scatterpolargl"
           }
          ],
          "scatterternary": [
           {
            "marker": {
             "colorbar": {
              "outlinewidth": 0,
              "ticks": ""
             }
            },
            "type": "scatterternary"
           }
          ],
          "surface": [
           {
            "colorbar": {
             "outlinewidth": 0,
             "ticks": ""
            },
            "colorscale": [
             [
              0,
              "#0d0887"
             ],
             [
              0.1111111111111111,
              "#46039f"
             ],
             [
              0.2222222222222222,
              "#7201a8"
             ],
             [
              0.3333333333333333,
              "#9c179e"
             ],
             [
              0.4444444444444444,
              "#bd3786"
             ],
             [
              0.5555555555555556,
              "#d8576b"
             ],
             [
              0.6666666666666666,
              "#ed7953"
             ],
             [
              0.7777777777777778,
              "#fb9f3a"
             ],
             [
              0.8888888888888888,
              "#fdca26"
             ],
             [
              1,
              "#f0f921"
             ]
            ],
            "type": "surface"
           }
          ],
          "table": [
           {
            "cells": {
             "fill": {
              "color": "#506784"
             },
             "line": {
              "color": "rgb(17,17,17)"
             }
            },
            "header": {
             "fill": {
              "color": "#2a3f5f"
             },
             "line": {
              "color": "rgb(17,17,17)"
             }
            },
            "type": "table"
           }
          ]
         },
         "layout": {
          "annotationdefaults": {
           "arrowcolor": "#f2f5fa",
           "arrowhead": 0,
           "arrowwidth": 1
          },
          "coloraxis": {
           "colorbar": {
            "outlinewidth": 0,
            "ticks": ""
           }
          },
          "colorscale": {
           "diverging": [
            [
             0,
             "#8e0152"
            ],
            [
             0.1,
             "#c51b7d"
            ],
            [
             0.2,
             "#de77ae"
            ],
            [
             0.3,
             "#f1b6da"
            ],
            [
             0.4,
             "#fde0ef"
            ],
            [
             0.5,
             "#f7f7f7"
            ],
            [
             0.6,
             "#e6f5d0"
            ],
            [
             0.7,
             "#b8e186"
            ],
            [
             0.8,
             "#7fbc41"
            ],
            [
             0.9,
             "#4d9221"
            ],
            [
             1,
             "#276419"
            ]
           ],
           "sequential": [
            [
             0,
             "#0d0887"
            ],
            [
             0.1111111111111111,
             "#46039f"
            ],
            [
             0.2222222222222222,
             "#7201a8"
            ],
            [
             0.3333333333333333,
             "#9c179e"
            ],
            [
             0.4444444444444444,
             "#bd3786"
            ],
            [
             0.5555555555555556,
             "#d8576b"
            ],
            [
             0.6666666666666666,
             "#ed7953"
            ],
            [
             0.7777777777777778,
             "#fb9f3a"
            ],
            [
             0.8888888888888888,
             "#fdca26"
            ],
            [
             1,
             "#f0f921"
            ]
           ],
           "sequentialminus": [
            [
             0,
             "#0d0887"
            ],
            [
             0.1111111111111111,
             "#46039f"
            ],
            [
             0.2222222222222222,
             "#7201a8"
            ],
            [
             0.3333333333333333,
             "#9c179e"
            ],
            [
             0.4444444444444444,
             "#bd3786"
            ],
            [
             0.5555555555555556,
             "#d8576b"
            ],
            [
             0.6666666666666666,
             "#ed7953"
            ],
            [
             0.7777777777777778,
             "#fb9f3a"
            ],
            [
             0.8888888888888888,
             "#fdca26"
            ],
            [
             1,
             "#f0f921"
            ]
           ]
          },
          "colorway": [
           "#636efa",
           "#EF553B",
           "#00cc96",
           "#ab63fa",
           "#FFA15A",
           "#19d3f3",
           "#FF6692",
           "#B6E880",
           "#FF97FF",
           "#FECB52"
          ],
          "font": {
           "color": "#f2f5fa"
          },
          "geo": {
           "bgcolor": "rgb(17,17,17)",
           "lakecolor": "rgb(17,17,17)",
           "landcolor": "rgb(17,17,17)",
           "showlakes": true,
           "showland": true,
           "subunitcolor": "#506784"
          },
          "hoverlabel": {
           "align": "left"
          },
          "hovermode": "closest",
          "mapbox": {
           "style": "dark"
          },
          "paper_bgcolor": "rgb(17,17,17)",
          "plot_bgcolor": "rgb(17,17,17)",
          "polar": {
           "angularaxis": {
            "gridcolor": "#506784",
            "linecolor": "#506784",
            "ticks": ""
           },
           "bgcolor": "rgb(17,17,17)",
           "radialaxis": {
            "gridcolor": "#506784",
            "linecolor": "#506784",
            "ticks": ""
           }
          },
          "scene": {
           "xaxis": {
            "backgroundcolor": "rgb(17,17,17)",
            "gridcolor": "#506784",
            "gridwidth": 2,
            "linecolor": "#506784",
            "showbackground": true,
            "ticks": "",
            "zerolinecolor": "#C8D4E3"
           },
           "yaxis": {
            "backgroundcolor": "rgb(17,17,17)",
            "gridcolor": "#506784",
            "gridwidth": 2,
            "linecolor": "#506784",
            "showbackground": true,
            "ticks": "",
            "zerolinecolor": "#C8D4E3"
           },
           "zaxis": {
            "backgroundcolor": "rgb(17,17,17)",
            "gridcolor": "#506784",
            "gridwidth": 2,
            "linecolor": "#506784",
            "showbackground": true,
            "ticks": "",
            "zerolinecolor": "#C8D4E3"
           }
          },
          "shapedefaults": {
           "line": {
            "color": "#f2f5fa"
           }
          },
          "sliderdefaults": {
           "bgcolor": "#C8D4E3",
           "bordercolor": "rgb(17,17,17)",
           "borderwidth": 1,
           "tickwidth": 0
          },
          "ternary": {
           "aaxis": {
            "gridcolor": "#506784",
            "linecolor": "#506784",
            "ticks": ""
           },
           "baxis": {
            "gridcolor": "#506784",
            "linecolor": "#506784",
            "ticks": ""
           },
           "bgcolor": "rgb(17,17,17)",
           "caxis": {
            "gridcolor": "#506784",
            "linecolor": "#506784",
            "ticks": ""
           }
          },
          "title": {
           "x": 0.05
          },
          "updatemenudefaults": {
           "bgcolor": "#506784",
           "borderwidth": 0
          },
          "xaxis": {
           "automargin": true,
           "gridcolor": "#283442",
           "linecolor": "#506784",
           "ticks": "",
           "title": {
            "standoff": 15
           },
           "zerolinecolor": "#283442",
           "zerolinewidth": 2
          },
          "yaxis": {
           "automargin": true,
           "gridcolor": "#283442",
           "linecolor": "#506784",
           "ticks": "",
           "title": {
            "standoff": 15
           },
           "zerolinecolor": "#283442",
           "zerolinewidth": 2
          }
         }
        },
        "title": {
         "font": {
          "size": 24
         },
         "text": "<b>Knn Grid Search results</b>"
        },
        "xaxis": {
         "title": {
          "text": "k param"
         }
        },
        "yaxis": {
         "title": {
          "text": "Mean Test RMSE"
         }
        }
       }
      },
      "text/html": [
       "<div>\n",
       "        \n",
       "        \n",
       "            <div id=\"a226a6cb-93b8-498b-9f36-bd08ecc57ae2\" class=\"plotly-graph-div\" style=\"height:350px; width:100%;\"></div>\n",
       "            <script type=\"text/javascript\">\n",
       "                require([\"plotly\"], function(Plotly) {\n",
       "                    window.PLOTLYENV=window.PLOTLYENV || {};\n",
       "                    \n",
       "                if (document.getElementById(\"a226a6cb-93b8-498b-9f36-bd08ecc57ae2\")) {\n",
       "                    Plotly.newPlot(\n",
       "                        'a226a6cb-93b8-498b-9f36-bd08ecc57ae2',\n",
       "                        [{\"name\": \"knn_basic_msd\", \"type\": \"scatter\", \"x\": [10, 15, 20, 25, 30], \"y\": [3.4677095372557916, 3.4396819305075432, 3.425261898729526, 3.4178352730679578, 3.413137586755751]}, {\"name\": \"knn_means_msd\", \"type\": \"scatter\", \"x\": [10, 15, 20, 25, 30], \"y\": [3.4977977126695485, 3.4707806419708205, 3.458113130757104, 3.4516789550657077, 3.4475175583429256]}, {\"name\": \"knn_zscore_msd\", \"type\": \"scatter\", \"x\": [10, 15, 20, 25, 30], \"y\": [3.5301332038182927, 3.5004414056341173, 3.4873159235099216, 3.479428075558251, 3.4743151758937176]}, {\"name\": \"knn_basic_cosine\", \"type\": \"scatter\", \"x\": [10, 15, 20, 25, 30], \"y\": [3.7651361699359818, 3.721568827448626, 3.667214263795241, 3.6370657594522675, 3.6301957197648806]}, {\"name\": \"knn_means_cosine\", \"type\": \"scatter\", \"x\": [10, 15, 20, 25, 30], \"y\": [3.7161536604105887, 3.6827041903911373, 3.6351383025160935, 3.6053168840529266, 3.6036703696925247]}, {\"name\": \"knn_zscore_cosine\", \"type\": \"scatter\", \"x\": [10, 15, 20, 25, 30], \"y\": [3.7027198266092323, 3.6581534572259464, 3.612351493680045, 3.584714082146759, 3.5801124741121364]}],\n",
       "                        {\"colorway\": [\"rgb(136, 204, 238)\", \"rgb(204, 102, 119)\", \"rgb(221, 204, 119)\", \"rgb(17, 119, 51)\", \"rgb(51, 34, 136)\", \"rgb(170, 68, 153)\", \"rgb(68, 170, 153)\", \"rgb(153, 153, 51)\", \"rgb(136, 34, 85)\", \"rgb(102, 17, 0)\", \"rgb(136, 136, 136)\"], \"height\": 350, \"legend\": {\"orientation\": \"h\"}, \"margin\": {\"b\": 50, \"l\": 30, \"r\": 20, \"t\": 50}, \"template\": {\"data\": {\"bar\": [{\"error_x\": {\"color\": \"#f2f5fa\"}, \"error_y\": {\"color\": \"#f2f5fa\"}, \"marker\": {\"line\": {\"color\": \"rgb(17,17,17)\", \"width\": 0.5}}, \"type\": \"bar\"}], \"barpolar\": [{\"marker\": {\"line\": {\"color\": \"rgb(17,17,17)\", \"width\": 0.5}}, \"type\": \"barpolar\"}], \"carpet\": [{\"aaxis\": {\"endlinecolor\": \"#A2B1C6\", \"gridcolor\": \"#506784\", \"linecolor\": \"#506784\", \"minorgridcolor\": \"#506784\", \"startlinecolor\": \"#A2B1C6\"}, \"baxis\": {\"endlinecolor\": \"#A2B1C6\", \"gridcolor\": \"#506784\", \"linecolor\": \"#506784\", \"minorgridcolor\": \"#506784\", \"startlinecolor\": \"#A2B1C6\"}, \"type\": \"carpet\"}], \"choropleth\": [{\"colorbar\": {\"outlinewidth\": 0, \"ticks\": \"\"}, \"type\": \"choropleth\"}], \"contour\": [{\"colorbar\": {\"outlinewidth\": 0, \"ticks\": \"\"}, \"colorscale\": [[0.0, \"#0d0887\"], [0.1111111111111111, \"#46039f\"], [0.2222222222222222, \"#7201a8\"], [0.3333333333333333, \"#9c179e\"], [0.4444444444444444, \"#bd3786\"], [0.5555555555555556, \"#d8576b\"], [0.6666666666666666, \"#ed7953\"], [0.7777777777777778, \"#fb9f3a\"], [0.8888888888888888, \"#fdca26\"], [1.0, \"#f0f921\"]], \"type\": \"contour\"}], \"contourcarpet\": [{\"colorbar\": {\"outlinewidth\": 0, \"ticks\": \"\"}, \"type\": \"contourcarpet\"}], \"heatmap\": [{\"colorbar\": {\"outlinewidth\": 0, \"ticks\": \"\"}, \"colorscale\": [[0.0, \"#0d0887\"], [0.1111111111111111, \"#46039f\"], [0.2222222222222222, \"#7201a8\"], [0.3333333333333333, \"#9c179e\"], [0.4444444444444444, \"#bd3786\"], [0.5555555555555556, \"#d8576b\"], [0.6666666666666666, \"#ed7953\"], [0.7777777777777778, \"#fb9f3a\"], [0.8888888888888888, \"#fdca26\"], [1.0, \"#f0f921\"]], \"type\": \"heatmap\"}], \"heatmapgl\": [{\"colorbar\": {\"outlinewidth\": 0, \"ticks\": \"\"}, \"colorscale\": [[0.0, \"#0d0887\"], [0.1111111111111111, \"#46039f\"], [0.2222222222222222, \"#7201a8\"], [0.3333333333333333, \"#9c179e\"], [0.4444444444444444, \"#bd3786\"], [0.5555555555555556, \"#d8576b\"], [0.6666666666666666, \"#ed7953\"], [0.7777777777777778, \"#fb9f3a\"], [0.8888888888888888, \"#fdca26\"], [1.0, \"#f0f921\"]], \"type\": \"heatmapgl\"}], \"histogram\": [{\"marker\": {\"colorbar\": {\"outlinewidth\": 0, \"ticks\": \"\"}}, \"type\": \"histogram\"}], \"histogram2d\": [{\"colorbar\": {\"outlinewidth\": 0, \"ticks\": \"\"}, \"colorscale\": [[0.0, \"#0d0887\"], [0.1111111111111111, \"#46039f\"], [0.2222222222222222, \"#7201a8\"], [0.3333333333333333, \"#9c179e\"], [0.4444444444444444, \"#bd3786\"], [0.5555555555555556, \"#d8576b\"], [0.6666666666666666, \"#ed7953\"], [0.7777777777777778, \"#fb9f3a\"], [0.8888888888888888, \"#fdca26\"], [1.0, \"#f0f921\"]], \"type\": \"histogram2d\"}], \"histogram2dcontour\": [{\"colorbar\": {\"outlinewidth\": 0, \"ticks\": \"\"}, \"colorscale\": [[0.0, \"#0d0887\"], [0.1111111111111111, \"#46039f\"], [0.2222222222222222, \"#7201a8\"], [0.3333333333333333, \"#9c179e\"], [0.4444444444444444, \"#bd3786\"], [0.5555555555555556, \"#d8576b\"], [0.6666666666666666, \"#ed7953\"], [0.7777777777777778, \"#fb9f3a\"], [0.8888888888888888, \"#fdca26\"], [1.0, \"#f0f921\"]], \"type\": \"histogram2dcontour\"}], \"mesh3d\": [{\"colorbar\": {\"outlinewidth\": 0, \"ticks\": \"\"}, \"type\": \"mesh3d\"}], \"parcoords\": [{\"line\": {\"colorbar\": {\"outlinewidth\": 0, \"ticks\": \"\"}}, \"type\": \"parcoords\"}], \"pie\": [{\"automargin\": true, \"type\": \"pie\"}], \"scatter\": [{\"marker\": {\"line\": {\"color\": \"#283442\"}}, \"type\": \"scatter\"}], \"scatter3d\": [{\"line\": {\"colorbar\": {\"outlinewidth\": 0, \"ticks\": \"\"}}, \"marker\": {\"colorbar\": {\"outlinewidth\": 0, \"ticks\": \"\"}}, \"type\": \"scatter3d\"}], \"scattercarpet\": [{\"marker\": {\"colorbar\": {\"outlinewidth\": 0, \"ticks\": \"\"}}, \"type\": \"scattercarpet\"}], \"scattergeo\": [{\"marker\": {\"colorbar\": {\"outlinewidth\": 0, \"ticks\": \"\"}}, \"type\": \"scattergeo\"}], \"scattergl\": [{\"marker\": {\"line\": {\"color\": \"#283442\"}}, \"type\": \"scattergl\"}], \"scattermapbox\": [{\"marker\": {\"colorbar\": {\"outlinewidth\": 0, \"ticks\": \"\"}}, \"type\": \"scattermapbox\"}], \"scatterpolar\": [{\"marker\": {\"colorbar\": {\"outlinewidth\": 0, \"ticks\": \"\"}}, \"type\": \"scatterpolar\"}], \"scatterpolargl\": [{\"marker\": {\"colorbar\": {\"outlinewidth\": 0, \"ticks\": \"\"}}, \"type\": \"scatterpolargl\"}], \"scatterternary\": [{\"marker\": {\"colorbar\": {\"outlinewidth\": 0, \"ticks\": \"\"}}, \"type\": \"scatterternary\"}], \"surface\": [{\"colorbar\": {\"outlinewidth\": 0, \"ticks\": \"\"}, \"colorscale\": [[0.0, \"#0d0887\"], [0.1111111111111111, \"#46039f\"], [0.2222222222222222, \"#7201a8\"], [0.3333333333333333, \"#9c179e\"], [0.4444444444444444, \"#bd3786\"], [0.5555555555555556, \"#d8576b\"], [0.6666666666666666, \"#ed7953\"], [0.7777777777777778, \"#fb9f3a\"], [0.8888888888888888, \"#fdca26\"], [1.0, \"#f0f921\"]], \"type\": \"surface\"}], \"table\": [{\"cells\": {\"fill\": {\"color\": \"#506784\"}, \"line\": {\"color\": \"rgb(17,17,17)\"}}, \"header\": {\"fill\": {\"color\": \"#2a3f5f\"}, \"line\": {\"color\": \"rgb(17,17,17)\"}}, \"type\": \"table\"}]}, \"layout\": {\"annotationdefaults\": {\"arrowcolor\": \"#f2f5fa\", \"arrowhead\": 0, \"arrowwidth\": 1}, \"coloraxis\": {\"colorbar\": {\"outlinewidth\": 0, \"ticks\": \"\"}}, \"colorscale\": {\"diverging\": [[0, \"#8e0152\"], [0.1, \"#c51b7d\"], [0.2, \"#de77ae\"], [0.3, \"#f1b6da\"], [0.4, \"#fde0ef\"], [0.5, \"#f7f7f7\"], [0.6, \"#e6f5d0\"], [0.7, \"#b8e186\"], [0.8, \"#7fbc41\"], [0.9, \"#4d9221\"], [1, \"#276419\"]], \"sequential\": [[0.0, \"#0d0887\"], [0.1111111111111111, \"#46039f\"], [0.2222222222222222, \"#7201a8\"], [0.3333333333333333, \"#9c179e\"], [0.4444444444444444, \"#bd3786\"], [0.5555555555555556, \"#d8576b\"], [0.6666666666666666, \"#ed7953\"], [0.7777777777777778, \"#fb9f3a\"], [0.8888888888888888, \"#fdca26\"], [1.0, \"#f0f921\"]], \"sequentialminus\": [[0.0, \"#0d0887\"], [0.1111111111111111, \"#46039f\"], [0.2222222222222222, \"#7201a8\"], [0.3333333333333333, \"#9c179e\"], [0.4444444444444444, \"#bd3786\"], [0.5555555555555556, \"#d8576b\"], [0.6666666666666666, \"#ed7953\"], [0.7777777777777778, \"#fb9f3a\"], [0.8888888888888888, \"#fdca26\"], [1.0, \"#f0f921\"]]}, \"colorway\": [\"#636efa\", \"#EF553B\", \"#00cc96\", \"#ab63fa\", \"#FFA15A\", \"#19d3f3\", \"#FF6692\", \"#B6E880\", \"#FF97FF\", \"#FECB52\"], \"font\": {\"color\": \"#f2f5fa\"}, \"geo\": {\"bgcolor\": \"rgb(17,17,17)\", \"lakecolor\": \"rgb(17,17,17)\", \"landcolor\": \"rgb(17,17,17)\", \"showlakes\": true, \"showland\": true, \"subunitcolor\": \"#506784\"}, \"hoverlabel\": {\"align\": \"left\"}, \"hovermode\": \"closest\", \"mapbox\": {\"style\": \"dark\"}, \"paper_bgcolor\": \"rgb(17,17,17)\", \"plot_bgcolor\": \"rgb(17,17,17)\", \"polar\": {\"angularaxis\": {\"gridcolor\": \"#506784\", \"linecolor\": \"#506784\", \"ticks\": \"\"}, \"bgcolor\": \"rgb(17,17,17)\", \"radialaxis\": {\"gridcolor\": \"#506784\", \"linecolor\": \"#506784\", \"ticks\": \"\"}}, \"scene\": {\"xaxis\": {\"backgroundcolor\": \"rgb(17,17,17)\", \"gridcolor\": \"#506784\", \"gridwidth\": 2, \"linecolor\": \"#506784\", \"showbackground\": true, \"ticks\": \"\", \"zerolinecolor\": \"#C8D4E3\"}, \"yaxis\": {\"backgroundcolor\": \"rgb(17,17,17)\", \"gridcolor\": \"#506784\", \"gridwidth\": 2, \"linecolor\": \"#506784\", \"showbackground\": true, \"ticks\": \"\", \"zerolinecolor\": \"#C8D4E3\"}, \"zaxis\": {\"backgroundcolor\": \"rgb(17,17,17)\", \"gridcolor\": \"#506784\", \"gridwidth\": 2, \"linecolor\": \"#506784\", \"showbackground\": true, \"ticks\": \"\", \"zerolinecolor\": \"#C8D4E3\"}}, \"shapedefaults\": {\"line\": {\"color\": \"#f2f5fa\"}}, \"sliderdefaults\": {\"bgcolor\": \"#C8D4E3\", \"bordercolor\": \"rgb(17,17,17)\", \"borderwidth\": 1, \"tickwidth\": 0}, \"ternary\": {\"aaxis\": {\"gridcolor\": \"#506784\", \"linecolor\": \"#506784\", \"ticks\": \"\"}, \"baxis\": {\"gridcolor\": \"#506784\", \"linecolor\": \"#506784\", \"ticks\": \"\"}, \"bgcolor\": \"rgb(17,17,17)\", \"caxis\": {\"gridcolor\": \"#506784\", \"linecolor\": \"#506784\", \"ticks\": \"\"}}, \"title\": {\"x\": 0.05}, \"updatemenudefaults\": {\"bgcolor\": \"#506784\", \"borderwidth\": 0}, \"xaxis\": {\"automargin\": true, \"gridcolor\": \"#283442\", \"linecolor\": \"#506784\", \"ticks\": \"\", \"title\": {\"standoff\": 15}, \"zerolinecolor\": \"#283442\", \"zerolinewidth\": 2}, \"yaxis\": {\"automargin\": true, \"gridcolor\": \"#283442\", \"linecolor\": \"#506784\", \"ticks\": \"\", \"title\": {\"standoff\": 15}, \"zerolinecolor\": \"#283442\", \"zerolinewidth\": 2}}}, \"title\": {\"font\": {\"size\": 24}, \"text\": \"<b>Knn Grid Search results</b>\"}, \"xaxis\": {\"title\": {\"text\": \"k param\"}}, \"yaxis\": {\"title\": {\"text\": \"Mean Test RMSE\"}}},\n",
       "                        {\"responsive\": true}\n",
       "                    ).then(function(){\n",
       "                            \n",
       "var gd = document.getElementById('a226a6cb-93b8-498b-9f36-bd08ecc57ae2');\n",
       "var x = new MutationObserver(function (mutations, observer) {{\n",
       "        var display = window.getComputedStyle(gd).display;\n",
       "        if (!display || display === 'none') {{\n",
       "            console.log([gd, 'removed!']);\n",
       "            Plotly.purge(gd);\n",
       "            observer.disconnect();\n",
       "        }}\n",
       "}});\n",
       "\n",
       "// Listen for the removal of the full notebook cells\n",
       "var notebookContainer = gd.closest('#notebook-container');\n",
       "if (notebookContainer) {{\n",
       "    x.observe(notebookContainer, {childList: true});\n",
       "}}\n",
       "\n",
       "// Listen for the clearing of the current output cell\n",
       "var outputEl = gd.closest('.output');\n",
       "if (outputEl) {{\n",
       "    x.observe(outputEl, {childList: true});\n",
       "}}\n",
       "\n",
       "                        })\n",
       "                };\n",
       "                });\n",
       "            </script>\n",
       "        </div>"
      ]
     },
     "metadata": {},
     "output_type": "display_data"
    }
   ],
   "source": [
    "knnbasic_res_df = pd.DataFrame(knnbasic_gs.cv_results)\n",
    "knnbasic_res_df['sim'] = knnbasic_res_df['param_sim_options'].str['name']\n",
    "knnbasic_res_df['algo'] = 'knn_basic'\n",
    "\n",
    "knnmeans_res_df = pd.DataFrame(knnmeans_gs.cv_results)\n",
    "knnmeans_res_df['sim'] = knnmeans_res_df['param_sim_options'].str['name']\n",
    "knnmeans_res_df['algo'] = 'knn_means'\n",
    "\n",
    "knnz_res_df = pd.DataFrame(knnz_gs.cv_results)\n",
    "knnz_res_df['sim'] = knnz_res_df['param_sim_options'].str['name']\n",
    "knnz_res_df['algo'] = 'knn_zscore'\n",
    "\n",
    "cv_res = pd.concat([knnbasic_res_df,knnmeans_res_df,knnz_res_df], axis=0)\n",
    "\n",
    "colors =  px.colors.qualitative.Safe #px.colors.sequential.Burg[3:6] + px.colors.sequential.Mint[3:6]\n",
    "\n",
    "fig = go.Figure()\n",
    "\n",
    "tmp = cv_res[(cv_res['sim']=='msd')].copy()\n",
    "for algo in cv_res['algo'].unique():\n",
    "    fig.add_trace(go.Scatter(x = tmp[(tmp['algo'] == algo)]['param_k'], \n",
    "                             y = tmp[(tmp['algo'] == algo)]['mean_test_rmse'], \n",
    "                             name = algo + '_msd'))\n",
    "\n",
    "tmp = cv_res[(cv_res['sim']=='cosine')].copy()\n",
    "for algo in cv_res['algo'].unique():\n",
    "    fig.add_trace(go.Scatter(x = tmp[(tmp['algo'] == algo)]['param_k'], \n",
    "                             y = tmp[(tmp['algo'] == algo)]['mean_test_rmse'], \n",
    "                             name = algo + '_cosine'))\n",
    "\n",
    "fig.update_layout(title = '<b>Knn Grid Search results</b>',\n",
    "                  title_font={'size':24},\n",
    "                  xaxis_title = 'k param',\n",
    "                  yaxis_title = 'Mean Test RMSE',\n",
    "                  template='plotly_dark',\n",
    "                  height=350,\n",
    "                  margin = {'l':30,'r':20,'t':50,'b':50},\n",
    "                 legend_orientation='h',\n",
    "                 colorway = colors)\n",
    "fig.show()"
   ]
  },
  {
   "cell_type": "markdown",
   "metadata": {},
   "source": [
    "We extract `best.estimator()` for each model to compare the results."
   ]
  },
  {
   "cell_type": "code",
   "execution_count": 120,
   "metadata": {},
   "outputs": [
    {
     "name": "stdout",
     "output_type": "stream",
     "text": [
      "Computing the msd similarity matrix...\n",
      "Done computing similarity matrix.\n",
      "Computing the msd similarity matrix...\n",
      "Done computing similarity matrix.\n",
      "Computing the msd similarity matrix...\n",
      "Done computing similarity matrix.\n",
      "Computing the msd similarity matrix...\n",
      "Done computing similarity matrix.\n",
      "Computing the msd similarity matrix...\n",
      "Done computing similarity matrix.\n",
      "Computing the msd similarity matrix...\n",
      "Done computing similarity matrix.\n",
      "Computing the msd similarity matrix...\n",
      "Done computing similarity matrix.\n",
      "Computing the msd similarity matrix...\n",
      "Done computing similarity matrix.\n",
      "Computing the msd similarity matrix...\n",
      "Done computing similarity matrix.\n"
     ]
    }
   ],
   "source": [
    "knnbasic_best = knnbasic_gs.best_estimator['rmse']\n",
    "knnmeans_best = knnmeans_gs.best_estimator['rmse']\n",
    "knnz_best = knnz_gs.best_estimator['rmse']\n",
    "\n",
    "knnbasic_cv = cross_validate(knnbasic_best, data, cv=3, verbose=False)\n",
    "knnmeans_cv = cross_validate(knnmeans_best, data, cv=3, verbose=False)\n",
    "knnz_cv = cross_validate(knnz_best, data, cv=3, verbose=False)"
   ]
  },
  {
   "cell_type": "markdown",
   "metadata": {},
   "source": [
    "According to the RMSE accuracy measure, K-nn basic model with 30 k using MSD similarity performs best across all permulations of selected parameters."
   ]
  },
  {
   "cell_type": "code",
   "execution_count": 122,
   "metadata": {},
   "outputs": [
    {
     "data": {
      "text/html": [
       "<div>\n",
       "<style scoped>\n",
       "    .dataframe tbody tr th:only-of-type {\n",
       "        vertical-align: middle;\n",
       "    }\n",
       "\n",
       "    .dataframe tbody tr th {\n",
       "        vertical-align: top;\n",
       "    }\n",
       "\n",
       "    .dataframe thead th {\n",
       "        text-align: right;\n",
       "    }\n",
       "</style>\n",
       "<table border=\"1\" class=\"dataframe\">\n",
       "  <thead>\n",
       "    <tr style=\"text-align: right;\">\n",
       "      <th></th>\n",
       "      <th>test_rmse</th>\n",
       "      <th>test_mae</th>\n",
       "      <th>fit_time</th>\n",
       "      <th>test_time</th>\n",
       "    </tr>\n",
       "    <tr>\n",
       "      <th>algo</th>\n",
       "      <th></th>\n",
       "      <th></th>\n",
       "      <th></th>\n",
       "      <th></th>\n",
       "    </tr>\n",
       "  </thead>\n",
       "  <tbody>\n",
       "    <tr>\n",
       "      <th>knn_basic</th>\n",
       "      <td>3.4124</td>\n",
       "      <td>2.6981</td>\n",
       "      <td>6.0759</td>\n",
       "      <td>18.8501</td>\n",
       "    </tr>\n",
       "    <tr>\n",
       "      <th>knn_means</th>\n",
       "      <td>3.4467</td>\n",
       "      <td>2.7837</td>\n",
       "      <td>6.3209</td>\n",
       "      <td>19.9522</td>\n",
       "    </tr>\n",
       "    <tr>\n",
       "      <th>knn_zscore</th>\n",
       "      <td>3.4759</td>\n",
       "      <td>2.7749</td>\n",
       "      <td>6.6506</td>\n",
       "      <td>21.0509</td>\n",
       "    </tr>\n",
       "  </tbody>\n",
       "</table>\n",
       "</div>"
      ],
      "text/plain": [
       "            test_rmse  test_mae  fit_time  test_time\n",
       "algo                                                \n",
       "knn_basic      3.4124    2.6981    6.0759    18.8501\n",
       "knn_means      3.4467    2.7837    6.3209    19.9522\n",
       "knn_zscore     3.4759    2.7749    6.6506    21.0509"
      ]
     },
     "execution_count": 122,
     "metadata": {},
     "output_type": "execute_result"
    }
   ],
   "source": [
    "knnbasic_best_res = pd.DataFrame(knnbasic_cv)\n",
    "knnbasic_best_res['algo'] = 'knn_basic'\n",
    "\n",
    "knnmeans_best_res = pd.DataFrame(knnmeans_cv)\n",
    "knnmeans_best_res['algo'] = 'knn_means'\n",
    "\n",
    "knnz_best_res = pd.DataFrame(knnz_cv)\n",
    "knnz_best_res['algo'] = 'knn_zscore'\n",
    "\n",
    "best_res_res = pd.concat([knnbasic_best_res,knnmeans_best_res,knnz_best_res], axis=0)\n",
    "\n",
    "best_res_gr = round(best_res.groupby('algo').mean(),4)\n",
    "best_res_gr"
   ]
  },
  {
   "cell_type": "code",
   "execution_count": 123,
   "metadata": {},
   "outputs": [
    {
     "data": {
      "application/vnd.plotly.v1+json": {
       "config": {
        "plotlyServerURL": "https://plot.ly"
       },
       "data": [
        {
         "name": "RMSE",
         "type": "scatter",
         "x": [
          "knn_basic",
          "knn_means",
          "knn_zscore"
         ],
         "xaxis": "x",
         "y": [
          3.4124,
          3.4467,
          3.4759
         ],
         "yaxis": "y"
        },
        {
         "name": "MAE",
         "type": "scatter",
         "x": [
          "knn_basic",
          "knn_means",
          "knn_zscore"
         ],
         "xaxis": "x",
         "y": [
          2.6981,
          2.7837,
          2.7749
         ],
         "yaxis": "y"
        },
        {
         "name": "Fit Time",
         "type": "scatter",
         "x": [
          "knn_basic",
          "knn_means",
          "knn_zscore"
         ],
         "xaxis": "x2",
         "y": [
          6.0759,
          6.3209,
          6.6506
         ],
         "yaxis": "y2"
        },
        {
         "name": "Test Time",
         "type": "scatter",
         "x": [
          "knn_basic",
          "knn_means",
          "knn_zscore"
         ],
         "xaxis": "x2",
         "y": [
          18.8501,
          19.9522,
          21.0509
         ],
         "yaxis": "y2"
        }
       ],
       "layout": {
        "colorway": [
         "rgb(136, 204, 238)",
         "rgb(204, 102, 119)",
         "rgb(221, 204, 119)",
         "rgb(17, 119, 51)",
         "rgb(51, 34, 136)",
         "rgb(170, 68, 153)",
         "rgb(68, 170, 153)",
         "rgb(153, 153, 51)",
         "rgb(136, 34, 85)",
         "rgb(102, 17, 0)",
         "rgb(136, 136, 136)"
        ],
        "height": 350,
        "legend": {
         "orientation": "h",
         "x": 0.35,
         "y": -0.1
        },
        "margin": {
         "b": 50,
         "l": 30,
         "r": 20,
         "t": 50
        },
        "template": {
         "data": {
          "bar": [
           {
            "error_x": {
             "color": "#f2f5fa"
            },
            "error_y": {
             "color": "#f2f5fa"
            },
            "marker": {
             "line": {
              "color": "rgb(17,17,17)",
              "width": 0.5
             }
            },
            "type": "bar"
           }
          ],
          "barpolar": [
           {
            "marker": {
             "line": {
              "color": "rgb(17,17,17)",
              "width": 0.5
             }
            },
            "type": "barpolar"
           }
          ],
          "carpet": [
           {
            "aaxis": {
             "endlinecolor": "#A2B1C6",
             "gridcolor": "#506784",
             "linecolor": "#506784",
             "minorgridcolor": "#506784",
             "startlinecolor": "#A2B1C6"
            },
            "baxis": {
             "endlinecolor": "#A2B1C6",
             "gridcolor": "#506784",
             "linecolor": "#506784",
             "minorgridcolor": "#506784",
             "startlinecolor": "#A2B1C6"
            },
            "type": "carpet"
           }
          ],
          "choropleth": [
           {
            "colorbar": {
             "outlinewidth": 0,
             "ticks": ""
            },
            "type": "choropleth"
           }
          ],
          "contour": [
           {
            "colorbar": {
             "outlinewidth": 0,
             "ticks": ""
            },
            "colorscale": [
             [
              0,
              "#0d0887"
             ],
             [
              0.1111111111111111,
              "#46039f"
             ],
             [
              0.2222222222222222,
              "#7201a8"
             ],
             [
              0.3333333333333333,
              "#9c179e"
             ],
             [
              0.4444444444444444,
              "#bd3786"
             ],
             [
              0.5555555555555556,
              "#d8576b"
             ],
             [
              0.6666666666666666,
              "#ed7953"
             ],
             [
              0.7777777777777778,
              "#fb9f3a"
             ],
             [
              0.8888888888888888,
              "#fdca26"
             ],
             [
              1,
              "#f0f921"
             ]
            ],
            "type": "contour"
           }
          ],
          "contourcarpet": [
           {
            "colorbar": {
             "outlinewidth": 0,
             "ticks": ""
            },
            "type": "contourcarpet"
           }
          ],
          "heatmap": [
           {
            "colorbar": {
             "outlinewidth": 0,
             "ticks": ""
            },
            "colorscale": [
             [
              0,
              "#0d0887"
             ],
             [
              0.1111111111111111,
              "#46039f"
             ],
             [
              0.2222222222222222,
              "#7201a8"
             ],
             [
              0.3333333333333333,
              "#9c179e"
             ],
             [
              0.4444444444444444,
              "#bd3786"
             ],
             [
              0.5555555555555556,
              "#d8576b"
             ],
             [
              0.6666666666666666,
              "#ed7953"
             ],
             [
              0.7777777777777778,
              "#fb9f3a"
             ],
             [
              0.8888888888888888,
              "#fdca26"
             ],
             [
              1,
              "#f0f921"
             ]
            ],
            "type": "heatmap"
           }
          ],
          "heatmapgl": [
           {
            "colorbar": {
             "outlinewidth": 0,
             "ticks": ""
            },
            "colorscale": [
             [
              0,
              "#0d0887"
             ],
             [
              0.1111111111111111,
              "#46039f"
             ],
             [
              0.2222222222222222,
              "#7201a8"
             ],
             [
              0.3333333333333333,
              "#9c179e"
             ],
             [
              0.4444444444444444,
              "#bd3786"
             ],
             [
              0.5555555555555556,
              "#d8576b"
             ],
             [
              0.6666666666666666,
              "#ed7953"
             ],
             [
              0.7777777777777778,
              "#fb9f3a"
             ],
             [
              0.8888888888888888,
              "#fdca26"
             ],
             [
              1,
              "#f0f921"
             ]
            ],
            "type": "heatmapgl"
           }
          ],
          "histogram": [
           {
            "marker": {
             "colorbar": {
              "outlinewidth": 0,
              "ticks": ""
             }
            },
            "type": "histogram"
           }
          ],
          "histogram2d": [
           {
            "colorbar": {
             "outlinewidth": 0,
             "ticks": ""
            },
            "colorscale": [
             [
              0,
              "#0d0887"
             ],
             [
              0.1111111111111111,
              "#46039f"
             ],
             [
              0.2222222222222222,
              "#7201a8"
             ],
             [
              0.3333333333333333,
              "#9c179e"
             ],
             [
              0.4444444444444444,
              "#bd3786"
             ],
             [
              0.5555555555555556,
              "#d8576b"
             ],
             [
              0.6666666666666666,
              "#ed7953"
             ],
             [
              0.7777777777777778,
              "#fb9f3a"
             ],
             [
              0.8888888888888888,
              "#fdca26"
             ],
             [
              1,
              "#f0f921"
             ]
            ],
            "type": "histogram2d"
           }
          ],
          "histogram2dcontour": [
           {
            "colorbar": {
             "outlinewidth": 0,
             "ticks": ""
            },
            "colorscale": [
             [
              0,
              "#0d0887"
             ],
             [
              0.1111111111111111,
              "#46039f"
             ],
             [
              0.2222222222222222,
              "#7201a8"
             ],
             [
              0.3333333333333333,
              "#9c179e"
             ],
             [
              0.4444444444444444,
              "#bd3786"
             ],
             [
              0.5555555555555556,
              "#d8576b"
             ],
             [
              0.6666666666666666,
              "#ed7953"
             ],
             [
              0.7777777777777778,
              "#fb9f3a"
             ],
             [
              0.8888888888888888,
              "#fdca26"
             ],
             [
              1,
              "#f0f921"
             ]
            ],
            "type": "histogram2dcontour"
           }
          ],
          "mesh3d": [
           {
            "colorbar": {
             "outlinewidth": 0,
             "ticks": ""
            },
            "type": "mesh3d"
           }
          ],
          "parcoords": [
           {
            "line": {
             "colorbar": {
              "outlinewidth": 0,
              "ticks": ""
             }
            },
            "type": "parcoords"
           }
          ],
          "pie": [
           {
            "automargin": true,
            "type": "pie"
           }
          ],
          "scatter": [
           {
            "marker": {
             "line": {
              "color": "#283442"
             }
            },
            "type": "scatter"
           }
          ],
          "scatter3d": [
           {
            "line": {
             "colorbar": {
              "outlinewidth": 0,
              "ticks": ""
             }
            },
            "marker": {
             "colorbar": {
              "outlinewidth": 0,
              "ticks": ""
             }
            },
            "type": "scatter3d"
           }
          ],
          "scattercarpet": [
           {
            "marker": {
             "colorbar": {
              "outlinewidth": 0,
              "ticks": ""
             }
            },
            "type": "scattercarpet"
           }
          ],
          "scattergeo": [
           {
            "marker": {
             "colorbar": {
              "outlinewidth": 0,
              "ticks": ""
             }
            },
            "type": "scattergeo"
           }
          ],
          "scattergl": [
           {
            "marker": {
             "line": {
              "color": "#283442"
             }
            },
            "type": "scattergl"
           }
          ],
          "scattermapbox": [
           {
            "marker": {
             "colorbar": {
              "outlinewidth": 0,
              "ticks": ""
             }
            },
            "type": "scattermapbox"
           }
          ],
          "scatterpolar": [
           {
            "marker": {
             "colorbar": {
              "outlinewidth": 0,
              "ticks": ""
             }
            },
            "type": "scatterpolar"
           }
          ],
          "scatterpolargl": [
           {
            "marker": {
             "colorbar": {
              "outlinewidth": 0,
              "ticks": ""
             }
            },
            "type": "scatterpolargl"
           }
          ],
          "scatterternary": [
           {
            "marker": {
             "colorbar": {
              "outlinewidth": 0,
              "ticks": ""
             }
            },
            "type": "scatterternary"
           }
          ],
          "surface": [
           {
            "colorbar": {
             "outlinewidth": 0,
             "ticks": ""
            },
            "colorscale": [
             [
              0,
              "#0d0887"
             ],
             [
              0.1111111111111111,
              "#46039f"
             ],
             [
              0.2222222222222222,
              "#7201a8"
             ],
             [
              0.3333333333333333,
              "#9c179e"
             ],
             [
              0.4444444444444444,
              "#bd3786"
             ],
             [
              0.5555555555555556,
              "#d8576b"
             ],
             [
              0.6666666666666666,
              "#ed7953"
             ],
             [
              0.7777777777777778,
              "#fb9f3a"
             ],
             [
              0.8888888888888888,
              "#fdca26"
             ],
             [
              1,
              "#f0f921"
             ]
            ],
            "type": "surface"
           }
          ],
          "table": [
           {
            "cells": {
             "fill": {
              "color": "#506784"
             },
             "line": {
              "color": "rgb(17,17,17)"
             }
            },
            "header": {
             "fill": {
              "color": "#2a3f5f"
             },
             "line": {
              "color": "rgb(17,17,17)"
             }
            },
            "type": "table"
           }
          ]
         },
         "layout": {
          "annotationdefaults": {
           "arrowcolor": "#f2f5fa",
           "arrowhead": 0,
           "arrowwidth": 1
          },
          "coloraxis": {
           "colorbar": {
            "outlinewidth": 0,
            "ticks": ""
           }
          },
          "colorscale": {
           "diverging": [
            [
             0,
             "#8e0152"
            ],
            [
             0.1,
             "#c51b7d"
            ],
            [
             0.2,
             "#de77ae"
            ],
            [
             0.3,
             "#f1b6da"
            ],
            [
             0.4,
             "#fde0ef"
            ],
            [
             0.5,
             "#f7f7f7"
            ],
            [
             0.6,
             "#e6f5d0"
            ],
            [
             0.7,
             "#b8e186"
            ],
            [
             0.8,
             "#7fbc41"
            ],
            [
             0.9,
             "#4d9221"
            ],
            [
             1,
             "#276419"
            ]
           ],
           "sequential": [
            [
             0,
             "#0d0887"
            ],
            [
             0.1111111111111111,
             "#46039f"
            ],
            [
             0.2222222222222222,
             "#7201a8"
            ],
            [
             0.3333333333333333,
             "#9c179e"
            ],
            [
             0.4444444444444444,
             "#bd3786"
            ],
            [
             0.5555555555555556,
             "#d8576b"
            ],
            [
             0.6666666666666666,
             "#ed7953"
            ],
            [
             0.7777777777777778,
             "#fb9f3a"
            ],
            [
             0.8888888888888888,
             "#fdca26"
            ],
            [
             1,
             "#f0f921"
            ]
           ],
           "sequentialminus": [
            [
             0,
             "#0d0887"
            ],
            [
             0.1111111111111111,
             "#46039f"
            ],
            [
             0.2222222222222222,
             "#7201a8"
            ],
            [
             0.3333333333333333,
             "#9c179e"
            ],
            [
             0.4444444444444444,
             "#bd3786"
            ],
            [
             0.5555555555555556,
             "#d8576b"
            ],
            [
             0.6666666666666666,
             "#ed7953"
            ],
            [
             0.7777777777777778,
             "#fb9f3a"
            ],
            [
             0.8888888888888888,
             "#fdca26"
            ],
            [
             1,
             "#f0f921"
            ]
           ]
          },
          "colorway": [
           "#636efa",
           "#EF553B",
           "#00cc96",
           "#ab63fa",
           "#FFA15A",
           "#19d3f3",
           "#FF6692",
           "#B6E880",
           "#FF97FF",
           "#FECB52"
          ],
          "font": {
           "color": "#f2f5fa"
          },
          "geo": {
           "bgcolor": "rgb(17,17,17)",
           "lakecolor": "rgb(17,17,17)",
           "landcolor": "rgb(17,17,17)",
           "showlakes": true,
           "showland": true,
           "subunitcolor": "#506784"
          },
          "hoverlabel": {
           "align": "left"
          },
          "hovermode": "closest",
          "mapbox": {
           "style": "dark"
          },
          "paper_bgcolor": "rgb(17,17,17)",
          "plot_bgcolor": "rgb(17,17,17)",
          "polar": {
           "angularaxis": {
            "gridcolor": "#506784",
            "linecolor": "#506784",
            "ticks": ""
           },
           "bgcolor": "rgb(17,17,17)",
           "radialaxis": {
            "gridcolor": "#506784",
            "linecolor": "#506784",
            "ticks": ""
           }
          },
          "scene": {
           "xaxis": {
            "backgroundcolor": "rgb(17,17,17)",
            "gridcolor": "#506784",
            "gridwidth": 2,
            "linecolor": "#506784",
            "showbackground": true,
            "ticks": "",
            "zerolinecolor": "#C8D4E3"
           },
           "yaxis": {
            "backgroundcolor": "rgb(17,17,17)",
            "gridcolor": "#506784",
            "gridwidth": 2,
            "linecolor": "#506784",
            "showbackground": true,
            "ticks": "",
            "zerolinecolor": "#C8D4E3"
           },
           "zaxis": {
            "backgroundcolor": "rgb(17,17,17)",
            "gridcolor": "#506784",
            "gridwidth": 2,
            "linecolor": "#506784",
            "showbackground": true,
            "ticks": "",
            "zerolinecolor": "#C8D4E3"
           }
          },
          "shapedefaults": {
           "line": {
            "color": "#f2f5fa"
           }
          },
          "sliderdefaults": {
           "bgcolor": "#C8D4E3",
           "bordercolor": "rgb(17,17,17)",
           "borderwidth": 1,
           "tickwidth": 0
          },
          "ternary": {
           "aaxis": {
            "gridcolor": "#506784",
            "linecolor": "#506784",
            "ticks": ""
           },
           "baxis": {
            "gridcolor": "#506784",
            "linecolor": "#506784",
            "ticks": ""
           },
           "bgcolor": "rgb(17,17,17)",
           "caxis": {
            "gridcolor": "#506784",
            "linecolor": "#506784",
            "ticks": ""
           }
          },
          "title": {
           "x": 0.05
          },
          "updatemenudefaults": {
           "bgcolor": "#506784",
           "borderwidth": 0
          },
          "xaxis": {
           "automargin": true,
           "gridcolor": "#283442",
           "linecolor": "#506784",
           "ticks": "",
           "title": {
            "standoff": 15
           },
           "zerolinecolor": "#283442",
           "zerolinewidth": 2
          },
          "yaxis": {
           "automargin": true,
           "gridcolor": "#283442",
           "linecolor": "#506784",
           "ticks": "",
           "title": {
            "standoff": 15
           },
           "zerolinecolor": "#283442",
           "zerolinewidth": 2
          }
         }
        },
        "title": {
         "font": {
          "size": 24
         },
         "text": "<b>Best Models Comparison </b>"
        },
        "xaxis": {
         "anchor": "y",
         "domain": [
          0,
          0.45
         ]
        },
        "xaxis2": {
         "anchor": "y2",
         "domain": [
          0.55,
          1
         ]
        },
        "yaxis": {
         "anchor": "x",
         "domain": [
          0,
          1
         ]
        },
        "yaxis2": {
         "anchor": "x2",
         "domain": [
          0,
          1
         ]
        }
       }
      },
      "text/html": [
       "<div>\n",
       "        \n",
       "        \n",
       "            <div id=\"001d6fff-e14b-48ec-94ce-3eb6365d86c0\" class=\"plotly-graph-div\" style=\"height:350px; width:100%;\"></div>\n",
       "            <script type=\"text/javascript\">\n",
       "                require([\"plotly\"], function(Plotly) {\n",
       "                    window.PLOTLYENV=window.PLOTLYENV || {};\n",
       "                    \n",
       "                if (document.getElementById(\"001d6fff-e14b-48ec-94ce-3eb6365d86c0\")) {\n",
       "                    Plotly.newPlot(\n",
       "                        '001d6fff-e14b-48ec-94ce-3eb6365d86c0',\n",
       "                        [{\"name\": \"RMSE\", \"type\": \"scatter\", \"x\": [\"knn_basic\", \"knn_means\", \"knn_zscore\"], \"xaxis\": \"x\", \"y\": [3.4124, 3.4467, 3.4759], \"yaxis\": \"y\"}, {\"name\": \"MAE\", \"type\": \"scatter\", \"x\": [\"knn_basic\", \"knn_means\", \"knn_zscore\"], \"xaxis\": \"x\", \"y\": [2.6981, 2.7837, 2.7749], \"yaxis\": \"y\"}, {\"name\": \"Fit Time\", \"type\": \"scatter\", \"x\": [\"knn_basic\", \"knn_means\", \"knn_zscore\"], \"xaxis\": \"x2\", \"y\": [6.0759, 6.3209, 6.6506], \"yaxis\": \"y2\"}, {\"name\": \"Test Time\", \"type\": \"scatter\", \"x\": [\"knn_basic\", \"knn_means\", \"knn_zscore\"], \"xaxis\": \"x2\", \"y\": [18.8501, 19.9522, 21.0509], \"yaxis\": \"y2\"}],\n",
       "                        {\"colorway\": [\"rgb(136, 204, 238)\", \"rgb(204, 102, 119)\", \"rgb(221, 204, 119)\", \"rgb(17, 119, 51)\", \"rgb(51, 34, 136)\", \"rgb(170, 68, 153)\", \"rgb(68, 170, 153)\", \"rgb(153, 153, 51)\", \"rgb(136, 34, 85)\", \"rgb(102, 17, 0)\", \"rgb(136, 136, 136)\"], \"height\": 350, \"legend\": {\"orientation\": \"h\", \"x\": 0.35, \"y\": -0.1}, \"margin\": {\"b\": 50, \"l\": 30, \"r\": 20, \"t\": 50}, \"template\": {\"data\": {\"bar\": [{\"error_x\": {\"color\": \"#f2f5fa\"}, \"error_y\": {\"color\": \"#f2f5fa\"}, \"marker\": {\"line\": {\"color\": \"rgb(17,17,17)\", \"width\": 0.5}}, \"type\": \"bar\"}], \"barpolar\": [{\"marker\": {\"line\": {\"color\": \"rgb(17,17,17)\", \"width\": 0.5}}, \"type\": \"barpolar\"}], \"carpet\": [{\"aaxis\": {\"endlinecolor\": \"#A2B1C6\", \"gridcolor\": \"#506784\", \"linecolor\": \"#506784\", \"minorgridcolor\": \"#506784\", \"startlinecolor\": \"#A2B1C6\"}, \"baxis\": {\"endlinecolor\": \"#A2B1C6\", \"gridcolor\": \"#506784\", \"linecolor\": \"#506784\", \"minorgridcolor\": \"#506784\", \"startlinecolor\": \"#A2B1C6\"}, \"type\": \"carpet\"}], \"choropleth\": [{\"colorbar\": {\"outlinewidth\": 0, \"ticks\": \"\"}, \"type\": \"choropleth\"}], \"contour\": [{\"colorbar\": {\"outlinewidth\": 0, \"ticks\": \"\"}, \"colorscale\": [[0.0, \"#0d0887\"], [0.1111111111111111, \"#46039f\"], [0.2222222222222222, \"#7201a8\"], [0.3333333333333333, \"#9c179e\"], [0.4444444444444444, \"#bd3786\"], [0.5555555555555556, \"#d8576b\"], [0.6666666666666666, \"#ed7953\"], [0.7777777777777778, \"#fb9f3a\"], [0.8888888888888888, \"#fdca26\"], [1.0, \"#f0f921\"]], \"type\": \"contour\"}], \"contourcarpet\": [{\"colorbar\": {\"outlinewidth\": 0, \"ticks\": \"\"}, \"type\": \"contourcarpet\"}], \"heatmap\": [{\"colorbar\": {\"outlinewidth\": 0, \"ticks\": \"\"}, \"colorscale\": [[0.0, \"#0d0887\"], [0.1111111111111111, \"#46039f\"], [0.2222222222222222, \"#7201a8\"], [0.3333333333333333, \"#9c179e\"], [0.4444444444444444, \"#bd3786\"], [0.5555555555555556, \"#d8576b\"], [0.6666666666666666, \"#ed7953\"], [0.7777777777777778, \"#fb9f3a\"], [0.8888888888888888, \"#fdca26\"], [1.0, \"#f0f921\"]], \"type\": \"heatmap\"}], \"heatmapgl\": [{\"colorbar\": {\"outlinewidth\": 0, \"ticks\": \"\"}, \"colorscale\": [[0.0, \"#0d0887\"], [0.1111111111111111, \"#46039f\"], [0.2222222222222222, \"#7201a8\"], [0.3333333333333333, \"#9c179e\"], [0.4444444444444444, \"#bd3786\"], [0.5555555555555556, \"#d8576b\"], [0.6666666666666666, \"#ed7953\"], [0.7777777777777778, \"#fb9f3a\"], [0.8888888888888888, \"#fdca26\"], [1.0, \"#f0f921\"]], \"type\": \"heatmapgl\"}], \"histogram\": [{\"marker\": {\"colorbar\": {\"outlinewidth\": 0, \"ticks\": \"\"}}, \"type\": \"histogram\"}], \"histogram2d\": [{\"colorbar\": {\"outlinewidth\": 0, \"ticks\": \"\"}, \"colorscale\": [[0.0, \"#0d0887\"], [0.1111111111111111, \"#46039f\"], [0.2222222222222222, \"#7201a8\"], [0.3333333333333333, \"#9c179e\"], [0.4444444444444444, \"#bd3786\"], [0.5555555555555556, \"#d8576b\"], [0.6666666666666666, \"#ed7953\"], [0.7777777777777778, \"#fb9f3a\"], [0.8888888888888888, \"#fdca26\"], [1.0, \"#f0f921\"]], \"type\": \"histogram2d\"}], \"histogram2dcontour\": [{\"colorbar\": {\"outlinewidth\": 0, \"ticks\": \"\"}, \"colorscale\": [[0.0, \"#0d0887\"], [0.1111111111111111, \"#46039f\"], [0.2222222222222222, \"#7201a8\"], [0.3333333333333333, \"#9c179e\"], [0.4444444444444444, \"#bd3786\"], [0.5555555555555556, \"#d8576b\"], [0.6666666666666666, \"#ed7953\"], [0.7777777777777778, \"#fb9f3a\"], [0.8888888888888888, \"#fdca26\"], [1.0, \"#f0f921\"]], \"type\": \"histogram2dcontour\"}], \"mesh3d\": [{\"colorbar\": {\"outlinewidth\": 0, \"ticks\": \"\"}, \"type\": \"mesh3d\"}], \"parcoords\": [{\"line\": {\"colorbar\": {\"outlinewidth\": 0, \"ticks\": \"\"}}, \"type\": \"parcoords\"}], \"pie\": [{\"automargin\": true, \"type\": \"pie\"}], \"scatter\": [{\"marker\": {\"line\": {\"color\": \"#283442\"}}, \"type\": \"scatter\"}], \"scatter3d\": [{\"line\": {\"colorbar\": {\"outlinewidth\": 0, \"ticks\": \"\"}}, \"marker\": {\"colorbar\": {\"outlinewidth\": 0, \"ticks\": \"\"}}, \"type\": \"scatter3d\"}], \"scattercarpet\": [{\"marker\": {\"colorbar\": {\"outlinewidth\": 0, \"ticks\": \"\"}}, \"type\": \"scattercarpet\"}], \"scattergeo\": [{\"marker\": {\"colorbar\": {\"outlinewidth\": 0, \"ticks\": \"\"}}, \"type\": \"scattergeo\"}], \"scattergl\": [{\"marker\": {\"line\": {\"color\": \"#283442\"}}, \"type\": \"scattergl\"}], \"scattermapbox\": [{\"marker\": {\"colorbar\": {\"outlinewidth\": 0, \"ticks\": \"\"}}, \"type\": \"scattermapbox\"}], \"scatterpolar\": [{\"marker\": {\"colorbar\": {\"outlinewidth\": 0, \"ticks\": \"\"}}, \"type\": \"scatterpolar\"}], \"scatterpolargl\": [{\"marker\": {\"colorbar\": {\"outlinewidth\": 0, \"ticks\": \"\"}}, \"type\": \"scatterpolargl\"}], \"scatterternary\": [{\"marker\": {\"colorbar\": {\"outlinewidth\": 0, \"ticks\": \"\"}}, \"type\": \"scatterternary\"}], \"surface\": [{\"colorbar\": {\"outlinewidth\": 0, \"ticks\": \"\"}, \"colorscale\": [[0.0, \"#0d0887\"], [0.1111111111111111, \"#46039f\"], [0.2222222222222222, \"#7201a8\"], [0.3333333333333333, \"#9c179e\"], [0.4444444444444444, \"#bd3786\"], [0.5555555555555556, \"#d8576b\"], [0.6666666666666666, \"#ed7953\"], [0.7777777777777778, \"#fb9f3a\"], [0.8888888888888888, \"#fdca26\"], [1.0, \"#f0f921\"]], \"type\": \"surface\"}], \"table\": [{\"cells\": {\"fill\": {\"color\": \"#506784\"}, \"line\": {\"color\": \"rgb(17,17,17)\"}}, \"header\": {\"fill\": {\"color\": \"#2a3f5f\"}, \"line\": {\"color\": \"rgb(17,17,17)\"}}, \"type\": \"table\"}]}, \"layout\": {\"annotationdefaults\": {\"arrowcolor\": \"#f2f5fa\", \"arrowhead\": 0, \"arrowwidth\": 1}, \"coloraxis\": {\"colorbar\": {\"outlinewidth\": 0, \"ticks\": \"\"}}, \"colorscale\": {\"diverging\": [[0, \"#8e0152\"], [0.1, \"#c51b7d\"], [0.2, \"#de77ae\"], [0.3, \"#f1b6da\"], [0.4, \"#fde0ef\"], [0.5, \"#f7f7f7\"], [0.6, \"#e6f5d0\"], [0.7, \"#b8e186\"], [0.8, \"#7fbc41\"], [0.9, \"#4d9221\"], [1, \"#276419\"]], \"sequential\": [[0.0, \"#0d0887\"], [0.1111111111111111, \"#46039f\"], [0.2222222222222222, \"#7201a8\"], [0.3333333333333333, \"#9c179e\"], [0.4444444444444444, \"#bd3786\"], [0.5555555555555556, \"#d8576b\"], [0.6666666666666666, \"#ed7953\"], [0.7777777777777778, \"#fb9f3a\"], [0.8888888888888888, \"#fdca26\"], [1.0, \"#f0f921\"]], \"sequentialminus\": [[0.0, \"#0d0887\"], [0.1111111111111111, \"#46039f\"], [0.2222222222222222, \"#7201a8\"], [0.3333333333333333, \"#9c179e\"], [0.4444444444444444, \"#bd3786\"], [0.5555555555555556, \"#d8576b\"], [0.6666666666666666, \"#ed7953\"], [0.7777777777777778, \"#fb9f3a\"], [0.8888888888888888, \"#fdca26\"], [1.0, \"#f0f921\"]]}, \"colorway\": [\"#636efa\", \"#EF553B\", \"#00cc96\", \"#ab63fa\", \"#FFA15A\", \"#19d3f3\", \"#FF6692\", \"#B6E880\", \"#FF97FF\", \"#FECB52\"], \"font\": {\"color\": \"#f2f5fa\"}, \"geo\": {\"bgcolor\": \"rgb(17,17,17)\", \"lakecolor\": \"rgb(17,17,17)\", \"landcolor\": \"rgb(17,17,17)\", \"showlakes\": true, \"showland\": true, \"subunitcolor\": \"#506784\"}, \"hoverlabel\": {\"align\": \"left\"}, \"hovermode\": \"closest\", \"mapbox\": {\"style\": \"dark\"}, \"paper_bgcolor\": \"rgb(17,17,17)\", \"plot_bgcolor\": \"rgb(17,17,17)\", \"polar\": {\"angularaxis\": {\"gridcolor\": \"#506784\", \"linecolor\": \"#506784\", \"ticks\": \"\"}, \"bgcolor\": \"rgb(17,17,17)\", \"radialaxis\": {\"gridcolor\": \"#506784\", \"linecolor\": \"#506784\", \"ticks\": \"\"}}, \"scene\": {\"xaxis\": {\"backgroundcolor\": \"rgb(17,17,17)\", \"gridcolor\": \"#506784\", \"gridwidth\": 2, \"linecolor\": \"#506784\", \"showbackground\": true, \"ticks\": \"\", \"zerolinecolor\": \"#C8D4E3\"}, \"yaxis\": {\"backgroundcolor\": \"rgb(17,17,17)\", \"gridcolor\": \"#506784\", \"gridwidth\": 2, \"linecolor\": \"#506784\", \"showbackground\": true, \"ticks\": \"\", \"zerolinecolor\": \"#C8D4E3\"}, \"zaxis\": {\"backgroundcolor\": \"rgb(17,17,17)\", \"gridcolor\": \"#506784\", \"gridwidth\": 2, \"linecolor\": \"#506784\", \"showbackground\": true, \"ticks\": \"\", \"zerolinecolor\": \"#C8D4E3\"}}, \"shapedefaults\": {\"line\": {\"color\": \"#f2f5fa\"}}, \"sliderdefaults\": {\"bgcolor\": \"#C8D4E3\", \"bordercolor\": \"rgb(17,17,17)\", \"borderwidth\": 1, \"tickwidth\": 0}, \"ternary\": {\"aaxis\": {\"gridcolor\": \"#506784\", \"linecolor\": \"#506784\", \"ticks\": \"\"}, \"baxis\": {\"gridcolor\": \"#506784\", \"linecolor\": \"#506784\", \"ticks\": \"\"}, \"bgcolor\": \"rgb(17,17,17)\", \"caxis\": {\"gridcolor\": \"#506784\", \"linecolor\": \"#506784\", \"ticks\": \"\"}}, \"title\": {\"x\": 0.05}, \"updatemenudefaults\": {\"bgcolor\": \"#506784\", \"borderwidth\": 0}, \"xaxis\": {\"automargin\": true, \"gridcolor\": \"#283442\", \"linecolor\": \"#506784\", \"ticks\": \"\", \"title\": {\"standoff\": 15}, \"zerolinecolor\": \"#283442\", \"zerolinewidth\": 2}, \"yaxis\": {\"automargin\": true, \"gridcolor\": \"#283442\", \"linecolor\": \"#506784\", \"ticks\": \"\", \"title\": {\"standoff\": 15}, \"zerolinecolor\": \"#283442\", \"zerolinewidth\": 2}}}, \"title\": {\"font\": {\"size\": 24}, \"text\": \"<b>Best Models Comparison </b>\"}, \"xaxis\": {\"anchor\": \"y\", \"domain\": [0.0, 0.45]}, \"xaxis2\": {\"anchor\": \"y2\", \"domain\": [0.55, 1.0]}, \"yaxis\": {\"anchor\": \"x\", \"domain\": [0.0, 1.0]}, \"yaxis2\": {\"anchor\": \"x2\", \"domain\": [0.0, 1.0]}},\n",
       "                        {\"responsive\": true}\n",
       "                    ).then(function(){\n",
       "                            \n",
       "var gd = document.getElementById('001d6fff-e14b-48ec-94ce-3eb6365d86c0');\n",
       "var x = new MutationObserver(function (mutations, observer) {{\n",
       "        var display = window.getComputedStyle(gd).display;\n",
       "        if (!display || display === 'none') {{\n",
       "            console.log([gd, 'removed!']);\n",
       "            Plotly.purge(gd);\n",
       "            observer.disconnect();\n",
       "        }}\n",
       "}});\n",
       "\n",
       "// Listen for the removal of the full notebook cells\n",
       "var notebookContainer = gd.closest('#notebook-container');\n",
       "if (notebookContainer) {{\n",
       "    x.observe(notebookContainer, {childList: true});\n",
       "}}\n",
       "\n",
       "// Listen for the clearing of the current output cell\n",
       "var outputEl = gd.closest('.output');\n",
       "if (outputEl) {{\n",
       "    x.observe(outputEl, {childList: true});\n",
       "}}\n",
       "\n",
       "                        })\n",
       "                };\n",
       "                });\n",
       "            </script>\n",
       "        </div>"
      ]
     },
     "metadata": {},
     "output_type": "display_data"
    }
   ],
   "source": [
    "fig = make_subplots(rows=1, cols=2)\n",
    "\n",
    "fig.add_trace(go.Scatter(x = best_res_gr.index,\n",
    "                         y = best_res_gr['test_rmse'], \n",
    "                         name = 'RMSE'),row=1,col=1)\n",
    "fig.add_trace(go.Scatter(x = best_res_gr.index,\n",
    "                         y = best_res_gr['test_mae'],\n",
    "                         name = 'MAE'),row=1,col=1)\n",
    "\n",
    "fig.add_trace(go.Scatter(x = best_res_gr.index,\n",
    "                         y = best_res_gr['fit_time'],\n",
    "                         name = 'Fit Time'),row=1,col=2)\n",
    "fig.add_trace(go.Scatter(x = best_res_gr.index,\n",
    "                         y = best_res_gr['test_time'],\n",
    "                         name = 'Test Time'),row=1,col=2)\n",
    "\n",
    "fig.update_layout(title = '<b>Best Models Comparison </b>',\n",
    "                  title_font={'size':24},\n",
    "                  template='plotly_dark',\n",
    "                  height=350,\n",
    "                  margin = {'l':30,'r':20,'t':50,'b':50},\n",
    "                  legend_orientation='h', legend= {'x':.35,'y':-.1},\n",
    "                 colorway = colors)\n",
    "\n",
    "fig.show()"
   ]
  },
  {
   "cell_type": "markdown",
   "metadata": {},
   "source": [
    "We will use the best model based on RMSE to train and fit on all of the data."
   ]
  },
  {
   "cell_type": "code",
   "execution_count": 183,
   "metadata": {},
   "outputs": [
    {
     "name": "stdout",
     "output_type": "stream",
     "text": [
      "Computing the msd similarity matrix...\n",
      "Done computing similarity matrix.\n",
      "CPU times: user 8.54 s, sys: 1.28 s, total: 9.82 s\n",
      "Wall time: 10.4 s\n"
     ]
    },
    {
     "data": {
      "text/plain": [
       "<surprise.prediction_algorithms.knns.KNNBasic at 0x12acf15c0>"
      ]
     },
     "execution_count": 183,
     "metadata": {},
     "output_type": "execute_result"
    }
   ],
   "source": [
    "%%time\n",
    "\n",
    "## train model on all data\n",
    "trainset = data.build_full_trainset()\n",
    "\n",
    "# To use item-based cosine similarity\n",
    "# sim_options = {\n",
    "#     \"name\": \"cosine\",\n",
    "#     \"user_based\": False,  # Compute  similarities between items\n",
    "# }\n",
    "algo = knnbasic_best\n",
    "algo.fit(trainset)"
   ]
  },
  {
   "cell_type": "markdown",
   "metadata": {},
   "source": [
    "## Recommendations"
   ]
  },
  {
   "cell_type": "code",
   "execution_count": 184,
   "metadata": {},
   "outputs": [
    {
     "data": {
      "text/html": [
       "<script>\n",
       "code_show=true; \n",
       "function code_toggle() {\n",
       " if (code_show){\n",
       " $('div.input').hide();\n",
       " } else {\n",
       " $('div.input').show();\n",
       " }\n",
       " code_show = !code_show\n",
       "} \n",
       "$( document ).ready(code_toggle);\n",
       "</script>\n",
       "<form action=\"javascript:code_toggle()\"><input type=\"submit\" value=\"Click here to show/hide code\"></form>"
      ],
      "text/plain": [
       "<IPython.core.display.HTML object>"
      ]
     },
     "execution_count": 184,
     "metadata": {},
     "output_type": "execute_result"
    }
   ],
   "source": [
    "HTML('''<script>\n",
    "code_show=true; \n",
    "function code_toggle() {\n",
    " if (code_show){\n",
    " $('div.input').hide();\n",
    " } else {\n",
    " $('div.input').show();\n",
    " }\n",
    " code_show = !code_show\n",
    "} \n",
    "$( document ).ready(code_toggle);\n",
    "</script>\n",
    "<form action=\"javascript:code_toggle()\"><input type=\"submit\" value=\"Click here to show/hide code\"></form>''')"
   ]
  },
  {
   "cell_type": "code",
   "execution_count": 194,
   "metadata": {
    "scrolled": false
   },
   "outputs": [
    {
     "data": {
      "application/vnd.jupyter.widget-view+json": {
       "model_id": "bfd380352be74ca3a520db7ef3191c64",
       "version_major": 2,
       "version_minor": 0
      },
      "text/plain": [
       "Dropdown(description='Select book:', options=(' Q-Space (Star Trek The Next Generation, Book 47)', \"'Salem's L…"
      ]
     },
     "metadata": {},
     "output_type": "display_data"
    },
    {
     "data": {
      "application/vnd.jupyter.widget-view+json": {
       "model_id": "65f0c15b5aac4530ae0a493f4b10111a",
       "version_major": 2,
       "version_minor": 0
      },
      "text/plain": [
       "Output()"
      ]
     },
     "metadata": {},
     "output_type": "display_data"
    }
   ],
   "source": [
    "short_books = books[books['one_isbn'].isin(short_ratings_new['item'].unique())].copy().reset_index()\n",
    "name_to_rid = pd.Series(short_books['one_isbn'].values,index = short_books['Book-Title'].values).to_dict()\n",
    "rid_to_name = pd.Series(short_books['Book-Title'].values,index = short_books['one_isbn'].values).to_dict()\n",
    "\n",
    "sh_bks_gr = short_books.groupby(['Book-Title','Book-Author','one_isbn','one_link'])['Year-Of-Publication'].unique().reset_index()\n",
    "\n",
    "select_book = widgets.Dropdown(\n",
    "    options=[i for i in short_books.sort_values(by='Book-Title',ascending=True)['Book-Title'].unique()],\n",
    "    description='Select book:',\n",
    "    disabled=False,\n",
    ")\n",
    "\n",
    "out = widgets.Output()\n",
    "\n",
    "def response(change):\n",
    "    with out:\n",
    "    \n",
    "        out.clear_output()\n",
    "\n",
    "        book = select_book.value\n",
    "        raw_id = name_to_rid[book]\n",
    "        inner_id = algo.trainset.to_inner_iid(raw_id)\n",
    "\n",
    "        # Retrieve inner ids of the nearest neighbors\n",
    "        neighbors = algo.get_neighbors(inner_id, k=10)\n",
    "\n",
    "        # Convert inner ids of the neighbors into names.\n",
    "        neighbors = (algo.trainset.to_raw_iid(inner_id) \n",
    "                     for inner_id in neighbors)\n",
    "\n",
    "        neighbors = (rid_to_name[rid] for rid in neighbors)\n",
    "\n",
    "        t = tuple(neighbors)\n",
    "\n",
    "        res = pd.DataFrame(t)\n",
    "        res.columns = ['Title']\n",
    "\n",
    "        res = res.merge(sh_bks_gr, how='left',left_on = 'Title', right_on = 'Book-Title')\n",
    "        res['image'] = '<img src=' + res['one_link'] + '/>'\n",
    "        res = res[['image','Book-Title','one_isbn','Book-Author']]\n",
    "        res.index = res.index + 1\n",
    "        \n",
    "    #     out.append_display_data(HTML(res.to_html(escape=False ,formatters=dict(Image=res['image']))))\n",
    "#         display(HTML(res.to_html(escape=False ,formatters=dict(Image=res['image']))))\n",
    "        display(res)\n",
    "#         show(res.to_frame().T, columnDefs=[{\"width\": \"120px\", \"targets\": \"_all\"}])\n",
    "\n",
    "select_book.observe(response,names='value')\n",
    "\n",
    "display(select_book)\n",
    "display(out)"
   ]
  },
  {
   "cell_type": "markdown",
   "metadata": {},
   "source": [
    "## Resources"
   ]
  },
  {
   "cell_type": "markdown",
   "metadata": {},
   "source": [
    "https://github.com/ashwanidv100/Recommendation-System---Book-Crossing-Dataset  \n",
    "https://surprise.readthedocs.io/en/stable/FAQ.html?highlight=inner#how-to-get-the-k-nearest-neighbors-of-a-user-or-item  \n",
    "https://towardsdatascience.com/recommender-systems-in-practice-cef9033bb23a  \n",
    "https://realpython.com/build-recommendation-engine-collaborative-filtering/#algorithms-based-on-k-nearest-neighbours-k-nn  \n",
    "https://surprise.readthedocs.io/en/stable/getting_started.html#use-a-custom-dataset  \n",
    "https://towardsdatascience.com/my-journey-to-building-book-recommendation-system-5ec959c41847  \n",
    "https://towardsdatascience.com/building-and-testing-recommender-systems-with-surprise-step-by-step-d4ba702ef80b  \n",
    "https://bmanohar16.github.io/blog/recsys-evaluation-in-surprise"
   ]
  },
  {
   "cell_type": "code",
   "execution_count": null,
   "metadata": {},
   "outputs": [],
   "source": [
    "# book = select_book.value\n",
    "# raw_id = name_to_rid[book]\n",
    "# inner_id = algo.trainset.to_inner_iid(raw_id)\n",
    "\n",
    "# # Retrieve inner ids of the nearest neighbors\n",
    "# neighbors = algo.get_neighbors(inner_id, k=10)\n",
    "\n",
    "# # Convert inner ids of the neighbors into names.\n",
    "# neighbors = (algo.trainset.to_raw_iid(inner_id) \n",
    "#              for inner_id in neighbors)\n",
    "\n",
    "# neighbors = (rid_to_name[rid] for rid in neighbors)\n",
    "\n",
    "# t = tuple(neighbors)\n",
    "\n",
    "# res = pd.DataFrame(t)\n",
    "# res.columns = ['Title']\n",
    "\n",
    "# sh_bks_gr = short_books.groupby(['Book-Title','Book-Author','one_isbn','one_link'])['Year-Of-Publication'].unique().reset_index()\n",
    "# res = res.merge(sh_bks_gr, how='left',left_on = 'Title', right_on = 'Book-Title')\n",
    "# res['image'] = '<img src=' + res['one_link'] + '/>'\n",
    "# res = res[['image','Book-Title','one_isbn','Book-Author']]\n",
    "# res.index = res.index + 1"
   ]
  },
  {
   "cell_type": "code",
   "execution_count": null,
   "metadata": {},
   "outputs": [],
   "source": [
    "# min_book_ratings = 50\n",
    "# filter_books = ratings['item'].value_counts() > min_book_ratings\n",
    "# filter_books = filter_books[filter_books].index.tolist()\n",
    "\n",
    "# min_user_ratings = 50\n",
    "# filter_users = ratings['user'].value_counts() > min_user_ratings\n",
    "# filter_users = filter_users[filter_users].index.tolist()\n",
    "\n",
    "# short_ratings = ratings[(ratings['item'].isin(filter_books)) & (ratings['user'].isin(filter_users))]\n",
    "# short_ratings.reset_index(inplace=True,drop=True)\n",
    "# print('The original data frame shape:\\t{}'.format(ratings.shape))\n",
    "# print('The new data frame shape:\\t{}'.format(short_ratings.shape))\n",
    "\n",
    "# # books['title'] = books['Book-Title'] + '_' + books['Year-Of-Publication']\n",
    "\n",
    "# # short_ratings = short_ratings[short_ratings['item'].isin(books['ISBN'].unique())]\n",
    "\n",
    "# short_books = books[books['ISBN'].isin(short_ratings['item'].unique())].copy().reset_index()\n",
    "# name_to_rid = pd.Series(short_books['ISBN'].values,index = short_books['title'].values).to_dict()\n",
    "# rid_to_name = pd.Series(short_books['title'].values,index = short_books['ISBN'].values).to_dict()\n",
    "\n",
    "# # A reader is needed but only the rating_scale param is required when reading data from df \n",
    "# reader = Reader(rating_scale=(0, 10))\n",
    "\n",
    "# # The columns must correspond to user id, item id and ratings (in that order)\n",
    "# data = Dataset.load_from_df(short_ratings[['user', 'item', 'rating']], reader)\n",
    "\n",
    "# ## train model on all data\n",
    "# trainset = data.build_full_trainset()\n",
    "\n",
    "# # To use item-based cosine similarity\n",
    "# sim_options = {\n",
    "#     \"name\": \"cosine\",\n",
    "#     \"user_based\": False,  # Compute  similarities between items\n",
    "# }\n",
    "# algo = KNNWithMeans(sim_options=sim_options)\n",
    "# algo.fit(trainset)"
   ]
  }
 ],
 "metadata": {
  "kernelspec": {
   "display_name": "Python 3",
   "language": "python",
   "name": "python3"
  },
  "language_info": {
   "codemirror_mode": {
    "name": "ipython",
    "version": 3
   },
   "file_extension": ".py",
   "mimetype": "text/x-python",
   "name": "python",
   "nbconvert_exporter": "python",
   "pygments_lexer": "ipython3",
   "version": "3.7.1"
  }
 },
 "nbformat": 4,
 "nbformat_minor": 4
}
